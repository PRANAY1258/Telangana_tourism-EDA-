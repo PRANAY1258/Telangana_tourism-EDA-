{
  "nbformat": 4,
  "nbformat_minor": 0,
  "metadata": {
    "colab": {
      "provenance": []
    },
    "kernelspec": {
      "name": "python3",
      "display_name": "Python 3"
    },
    "language_info": {
      "name": "python"
    }
  },
  "cells": [
    {
      "cell_type": "markdown",
      "source": [
        "# **Importing Libraries**"
      ],
      "metadata": {
        "id": "KJRsBPL8adcr"
      }
    },
    {
      "cell_type": "code",
      "execution_count": 1,
      "metadata": {
        "id": "Gi9RcVMraM4-"
      },
      "outputs": [],
      "source": [
        "import pandas as pd\n",
        "import numpy as np \n",
        "import seaborn as sns\n",
        "import matplotlib.pyplot as plt"
      ]
    },
    {
      "cell_type": "code",
      "source": [
        "dv_2016 = pd.read_csv('/content/domestic_visitors_2016.csv')\n",
        "dv_2017 = pd.read_csv('/content/domestic_visitors_2017.csv')\n",
        "dv_2018 = pd.read_csv('/content/domestic_visitors_2018.csv')\n",
        "dv_2019 = pd.read_csv('/content/domestic_visitors_2019.csv')"
      ],
      "metadata": {
        "id": "9_N9rG3TawnH"
      },
      "execution_count": 2,
      "outputs": []
    },
    {
      "cell_type": "code",
      "source": [
        "fv_2016 = pd.read_csv('/content/foreign_visitors_2016.csv')\n",
        "fv_2017 = pd.read_csv('/content/foreign_visitors_2017.csv')\n",
        "fv_2018 = pd.read_csv('/content/foreign_visitors_2018.csv')\n",
        "fv_2019 = pd.read_csv('/content/foreign_visitors_2019.csv')"
      ],
      "metadata": {
        "id": "GrBnLA5ScHQa"
      },
      "execution_count": 3,
      "outputs": []
    },
    {
      "cell_type": "markdown",
      "source": [
        "# **Concatenating the domestic data sets by following its date**"
      ],
      "metadata": {
        "id": "-wbTuUgTe9SH"
      }
    },
    {
      "cell_type": "code",
      "source": [
        "domestic = [dv_2016,dv_2017,dv_2018,dv_2019]\n",
        "\n",
        "df1 = pd.concat(domestic)"
      ],
      "metadata": {
        "id": "rXsbEdllcWCm"
      },
      "execution_count": 4,
      "outputs": []
    },
    {
      "cell_type": "code",
      "source": [
        "df1.tail(10)"
      ],
      "metadata": {
        "colab": {
          "base_uri": "https://localhost:8080/",
          "height": 363
        },
        "id": "aczJ3es9eILj",
        "outputId": "0adf28d6-dbbc-4295-817c-53e4d2d31db6"
      },
      "execution_count": 5,
      "outputs": [
        {
          "output_type": "execute_result",
          "data": {
            "text/plain": [
              "            district        date      month  year visitors\n",
              "386  Yadadri Bhongir  01-03-2019      March  2019   481923\n",
              "387  Yadadri Bhongir  01-04-2019      April  2019   441150\n",
              "388  Yadadri Bhongir  01-05-2019        May  2019   345790\n",
              "389  Yadadri Bhongir  01-06-2019       June  2019   370566\n",
              "390  Yadadri Bhongir  01-07-2019       July  2019   332770\n",
              "391  Yadadri Bhongir  01-08-2019     August  2019   389010\n",
              "392  Yadadri Bhongir  01-09-2019  September  2019   366862\n",
              "393  Yadadri Bhongir  01-10-2019    October  2019   381860\n",
              "394  Yadadri Bhongir  01-11-2019   November  2019   365990\n",
              "395  Yadadri Bhongir  01-12-2019   December  2019   477635"
            ],
            "text/html": [
              "\n",
              "  <div id=\"df-3b6aa254-deb1-419e-8f4a-5d584ffbc41a\">\n",
              "    <div class=\"colab-df-container\">\n",
              "      <div>\n",
              "<style scoped>\n",
              "    .dataframe tbody tr th:only-of-type {\n",
              "        vertical-align: middle;\n",
              "    }\n",
              "\n",
              "    .dataframe tbody tr th {\n",
              "        vertical-align: top;\n",
              "    }\n",
              "\n",
              "    .dataframe thead th {\n",
              "        text-align: right;\n",
              "    }\n",
              "</style>\n",
              "<table border=\"1\" class=\"dataframe\">\n",
              "  <thead>\n",
              "    <tr style=\"text-align: right;\">\n",
              "      <th></th>\n",
              "      <th>district</th>\n",
              "      <th>date</th>\n",
              "      <th>month</th>\n",
              "      <th>year</th>\n",
              "      <th>visitors</th>\n",
              "    </tr>\n",
              "  </thead>\n",
              "  <tbody>\n",
              "    <tr>\n",
              "      <th>386</th>\n",
              "      <td>Yadadri Bhongir</td>\n",
              "      <td>01-03-2019</td>\n",
              "      <td>March</td>\n",
              "      <td>2019</td>\n",
              "      <td>481923</td>\n",
              "    </tr>\n",
              "    <tr>\n",
              "      <th>387</th>\n",
              "      <td>Yadadri Bhongir</td>\n",
              "      <td>01-04-2019</td>\n",
              "      <td>April</td>\n",
              "      <td>2019</td>\n",
              "      <td>441150</td>\n",
              "    </tr>\n",
              "    <tr>\n",
              "      <th>388</th>\n",
              "      <td>Yadadri Bhongir</td>\n",
              "      <td>01-05-2019</td>\n",
              "      <td>May</td>\n",
              "      <td>2019</td>\n",
              "      <td>345790</td>\n",
              "    </tr>\n",
              "    <tr>\n",
              "      <th>389</th>\n",
              "      <td>Yadadri Bhongir</td>\n",
              "      <td>01-06-2019</td>\n",
              "      <td>June</td>\n",
              "      <td>2019</td>\n",
              "      <td>370566</td>\n",
              "    </tr>\n",
              "    <tr>\n",
              "      <th>390</th>\n",
              "      <td>Yadadri Bhongir</td>\n",
              "      <td>01-07-2019</td>\n",
              "      <td>July</td>\n",
              "      <td>2019</td>\n",
              "      <td>332770</td>\n",
              "    </tr>\n",
              "    <tr>\n",
              "      <th>391</th>\n",
              "      <td>Yadadri Bhongir</td>\n",
              "      <td>01-08-2019</td>\n",
              "      <td>August</td>\n",
              "      <td>2019</td>\n",
              "      <td>389010</td>\n",
              "    </tr>\n",
              "    <tr>\n",
              "      <th>392</th>\n",
              "      <td>Yadadri Bhongir</td>\n",
              "      <td>01-09-2019</td>\n",
              "      <td>September</td>\n",
              "      <td>2019</td>\n",
              "      <td>366862</td>\n",
              "    </tr>\n",
              "    <tr>\n",
              "      <th>393</th>\n",
              "      <td>Yadadri Bhongir</td>\n",
              "      <td>01-10-2019</td>\n",
              "      <td>October</td>\n",
              "      <td>2019</td>\n",
              "      <td>381860</td>\n",
              "    </tr>\n",
              "    <tr>\n",
              "      <th>394</th>\n",
              "      <td>Yadadri Bhongir</td>\n",
              "      <td>01-11-2019</td>\n",
              "      <td>November</td>\n",
              "      <td>2019</td>\n",
              "      <td>365990</td>\n",
              "    </tr>\n",
              "    <tr>\n",
              "      <th>395</th>\n",
              "      <td>Yadadri Bhongir</td>\n",
              "      <td>01-12-2019</td>\n",
              "      <td>December</td>\n",
              "      <td>2019</td>\n",
              "      <td>477635</td>\n",
              "    </tr>\n",
              "  </tbody>\n",
              "</table>\n",
              "</div>\n",
              "      <button class=\"colab-df-convert\" onclick=\"convertToInteractive('df-3b6aa254-deb1-419e-8f4a-5d584ffbc41a')\"\n",
              "              title=\"Convert this dataframe to an interactive table.\"\n",
              "              style=\"display:none;\">\n",
              "        \n",
              "  <svg xmlns=\"http://www.w3.org/2000/svg\" height=\"24px\"viewBox=\"0 0 24 24\"\n",
              "       width=\"24px\">\n",
              "    <path d=\"M0 0h24v24H0V0z\" fill=\"none\"/>\n",
              "    <path d=\"M18.56 5.44l.94 2.06.94-2.06 2.06-.94-2.06-.94-.94-2.06-.94 2.06-2.06.94zm-11 1L8.5 8.5l.94-2.06 2.06-.94-2.06-.94L8.5 2.5l-.94 2.06-2.06.94zm10 10l.94 2.06.94-2.06 2.06-.94-2.06-.94-.94-2.06-.94 2.06-2.06.94z\"/><path d=\"M17.41 7.96l-1.37-1.37c-.4-.4-.92-.59-1.43-.59-.52 0-1.04.2-1.43.59L10.3 9.45l-7.72 7.72c-.78.78-.78 2.05 0 2.83L4 21.41c.39.39.9.59 1.41.59.51 0 1.02-.2 1.41-.59l7.78-7.78 2.81-2.81c.8-.78.8-2.07 0-2.86zM5.41 20L4 18.59l7.72-7.72 1.47 1.35L5.41 20z\"/>\n",
              "  </svg>\n",
              "      </button>\n",
              "      \n",
              "  <style>\n",
              "    .colab-df-container {\n",
              "      display:flex;\n",
              "      flex-wrap:wrap;\n",
              "      gap: 12px;\n",
              "    }\n",
              "\n",
              "    .colab-df-convert {\n",
              "      background-color: #E8F0FE;\n",
              "      border: none;\n",
              "      border-radius: 50%;\n",
              "      cursor: pointer;\n",
              "      display: none;\n",
              "      fill: #1967D2;\n",
              "      height: 32px;\n",
              "      padding: 0 0 0 0;\n",
              "      width: 32px;\n",
              "    }\n",
              "\n",
              "    .colab-df-convert:hover {\n",
              "      background-color: #E2EBFA;\n",
              "      box-shadow: 0px 1px 2px rgba(60, 64, 67, 0.3), 0px 1px 3px 1px rgba(60, 64, 67, 0.15);\n",
              "      fill: #174EA6;\n",
              "    }\n",
              "\n",
              "    [theme=dark] .colab-df-convert {\n",
              "      background-color: #3B4455;\n",
              "      fill: #D2E3FC;\n",
              "    }\n",
              "\n",
              "    [theme=dark] .colab-df-convert:hover {\n",
              "      background-color: #434B5C;\n",
              "      box-shadow: 0px 1px 3px 1px rgba(0, 0, 0, 0.15);\n",
              "      filter: drop-shadow(0px 1px 2px rgba(0, 0, 0, 0.3));\n",
              "      fill: #FFFFFF;\n",
              "    }\n",
              "  </style>\n",
              "\n",
              "      <script>\n",
              "        const buttonEl =\n",
              "          document.querySelector('#df-3b6aa254-deb1-419e-8f4a-5d584ffbc41a button.colab-df-convert');\n",
              "        buttonEl.style.display =\n",
              "          google.colab.kernel.accessAllowed ? 'block' : 'none';\n",
              "\n",
              "        async function convertToInteractive(key) {\n",
              "          const element = document.querySelector('#df-3b6aa254-deb1-419e-8f4a-5d584ffbc41a');\n",
              "          const dataTable =\n",
              "            await google.colab.kernel.invokeFunction('convertToInteractive',\n",
              "                                                     [key], {});\n",
              "          if (!dataTable) return;\n",
              "\n",
              "          const docLinkHtml = 'Like what you see? Visit the ' +\n",
              "            '<a target=\"_blank\" href=https://colab.research.google.com/notebooks/data_table.ipynb>data table notebook</a>'\n",
              "            + ' to learn more about interactive tables.';\n",
              "          element.innerHTML = '';\n",
              "          dataTable['output_type'] = 'display_data';\n",
              "          await google.colab.output.renderOutput(dataTable, element);\n",
              "          const docLink = document.createElement('div');\n",
              "          docLink.innerHTML = docLinkHtml;\n",
              "          element.appendChild(docLink);\n",
              "        }\n",
              "      </script>\n",
              "    </div>\n",
              "  </div>\n",
              "  "
            ]
          },
          "metadata": {},
          "execution_count": 5
        }
      ]
    },
    {
      "cell_type": "code",
      "source": [
        "df1 = df1.reset_index()"
      ],
      "metadata": {
        "id": "OSkfrOyzZ6S7"
      },
      "execution_count": 6,
      "outputs": []
    },
    {
      "cell_type": "code",
      "source": [
        "df1"
      ],
      "metadata": {
        "colab": {
          "base_uri": "https://localhost:8080/",
          "height": 424
        },
        "id": "mBAnL_cEaFgo",
        "outputId": "e42e1bde-a7c8-43ec-858e-60e3b79dbe4b"
      },
      "execution_count": 7,
      "outputs": [
        {
          "output_type": "execute_result",
          "data": {
            "text/plain": [
              "      index         district        date      month  year visitors\n",
              "0         0         Adilabad  01-01-2016    January  2016   792136\n",
              "1         1         Adilabad  01-02-2016   February  2016   937820\n",
              "2         2         Adilabad  01-03-2016      March  2016   582946\n",
              "3         3         Adilabad  01-04-2016      April  2016   341948\n",
              "4         4         Adilabad  01-05-2016        May  2016   252887\n",
              "...     ...              ...         ...        ...   ...      ...\n",
              "1507    391  Yadadri Bhongir  01-08-2019     August  2019   389010\n",
              "1508    392  Yadadri Bhongir  01-09-2019  September  2019   366862\n",
              "1509    393  Yadadri Bhongir  01-10-2019    October  2019   381860\n",
              "1510    394  Yadadri Bhongir  01-11-2019   November  2019   365990\n",
              "1511    395  Yadadri Bhongir  01-12-2019   December  2019   477635\n",
              "\n",
              "[1512 rows x 6 columns]"
            ],
            "text/html": [
              "\n",
              "  <div id=\"df-435fa1a8-0ec6-41f0-96d6-977a98832b08\">\n",
              "    <div class=\"colab-df-container\">\n",
              "      <div>\n",
              "<style scoped>\n",
              "    .dataframe tbody tr th:only-of-type {\n",
              "        vertical-align: middle;\n",
              "    }\n",
              "\n",
              "    .dataframe tbody tr th {\n",
              "        vertical-align: top;\n",
              "    }\n",
              "\n",
              "    .dataframe thead th {\n",
              "        text-align: right;\n",
              "    }\n",
              "</style>\n",
              "<table border=\"1\" class=\"dataframe\">\n",
              "  <thead>\n",
              "    <tr style=\"text-align: right;\">\n",
              "      <th></th>\n",
              "      <th>index</th>\n",
              "      <th>district</th>\n",
              "      <th>date</th>\n",
              "      <th>month</th>\n",
              "      <th>year</th>\n",
              "      <th>visitors</th>\n",
              "    </tr>\n",
              "  </thead>\n",
              "  <tbody>\n",
              "    <tr>\n",
              "      <th>0</th>\n",
              "      <td>0</td>\n",
              "      <td>Adilabad</td>\n",
              "      <td>01-01-2016</td>\n",
              "      <td>January</td>\n",
              "      <td>2016</td>\n",
              "      <td>792136</td>\n",
              "    </tr>\n",
              "    <tr>\n",
              "      <th>1</th>\n",
              "      <td>1</td>\n",
              "      <td>Adilabad</td>\n",
              "      <td>01-02-2016</td>\n",
              "      <td>February</td>\n",
              "      <td>2016</td>\n",
              "      <td>937820</td>\n",
              "    </tr>\n",
              "    <tr>\n",
              "      <th>2</th>\n",
              "      <td>2</td>\n",
              "      <td>Adilabad</td>\n",
              "      <td>01-03-2016</td>\n",
              "      <td>March</td>\n",
              "      <td>2016</td>\n",
              "      <td>582946</td>\n",
              "    </tr>\n",
              "    <tr>\n",
              "      <th>3</th>\n",
              "      <td>3</td>\n",
              "      <td>Adilabad</td>\n",
              "      <td>01-04-2016</td>\n",
              "      <td>April</td>\n",
              "      <td>2016</td>\n",
              "      <td>341948</td>\n",
              "    </tr>\n",
              "    <tr>\n",
              "      <th>4</th>\n",
              "      <td>4</td>\n",
              "      <td>Adilabad</td>\n",
              "      <td>01-05-2016</td>\n",
              "      <td>May</td>\n",
              "      <td>2016</td>\n",
              "      <td>252887</td>\n",
              "    </tr>\n",
              "    <tr>\n",
              "      <th>...</th>\n",
              "      <td>...</td>\n",
              "      <td>...</td>\n",
              "      <td>...</td>\n",
              "      <td>...</td>\n",
              "      <td>...</td>\n",
              "      <td>...</td>\n",
              "    </tr>\n",
              "    <tr>\n",
              "      <th>1507</th>\n",
              "      <td>391</td>\n",
              "      <td>Yadadri Bhongir</td>\n",
              "      <td>01-08-2019</td>\n",
              "      <td>August</td>\n",
              "      <td>2019</td>\n",
              "      <td>389010</td>\n",
              "    </tr>\n",
              "    <tr>\n",
              "      <th>1508</th>\n",
              "      <td>392</td>\n",
              "      <td>Yadadri Bhongir</td>\n",
              "      <td>01-09-2019</td>\n",
              "      <td>September</td>\n",
              "      <td>2019</td>\n",
              "      <td>366862</td>\n",
              "    </tr>\n",
              "    <tr>\n",
              "      <th>1509</th>\n",
              "      <td>393</td>\n",
              "      <td>Yadadri Bhongir</td>\n",
              "      <td>01-10-2019</td>\n",
              "      <td>October</td>\n",
              "      <td>2019</td>\n",
              "      <td>381860</td>\n",
              "    </tr>\n",
              "    <tr>\n",
              "      <th>1510</th>\n",
              "      <td>394</td>\n",
              "      <td>Yadadri Bhongir</td>\n",
              "      <td>01-11-2019</td>\n",
              "      <td>November</td>\n",
              "      <td>2019</td>\n",
              "      <td>365990</td>\n",
              "    </tr>\n",
              "    <tr>\n",
              "      <th>1511</th>\n",
              "      <td>395</td>\n",
              "      <td>Yadadri Bhongir</td>\n",
              "      <td>01-12-2019</td>\n",
              "      <td>December</td>\n",
              "      <td>2019</td>\n",
              "      <td>477635</td>\n",
              "    </tr>\n",
              "  </tbody>\n",
              "</table>\n",
              "<p>1512 rows × 6 columns</p>\n",
              "</div>\n",
              "      <button class=\"colab-df-convert\" onclick=\"convertToInteractive('df-435fa1a8-0ec6-41f0-96d6-977a98832b08')\"\n",
              "              title=\"Convert this dataframe to an interactive table.\"\n",
              "              style=\"display:none;\">\n",
              "        \n",
              "  <svg xmlns=\"http://www.w3.org/2000/svg\" height=\"24px\"viewBox=\"0 0 24 24\"\n",
              "       width=\"24px\">\n",
              "    <path d=\"M0 0h24v24H0V0z\" fill=\"none\"/>\n",
              "    <path d=\"M18.56 5.44l.94 2.06.94-2.06 2.06-.94-2.06-.94-.94-2.06-.94 2.06-2.06.94zm-11 1L8.5 8.5l.94-2.06 2.06-.94-2.06-.94L8.5 2.5l-.94 2.06-2.06.94zm10 10l.94 2.06.94-2.06 2.06-.94-2.06-.94-.94-2.06-.94 2.06-2.06.94z\"/><path d=\"M17.41 7.96l-1.37-1.37c-.4-.4-.92-.59-1.43-.59-.52 0-1.04.2-1.43.59L10.3 9.45l-7.72 7.72c-.78.78-.78 2.05 0 2.83L4 21.41c.39.39.9.59 1.41.59.51 0 1.02-.2 1.41-.59l7.78-7.78 2.81-2.81c.8-.78.8-2.07 0-2.86zM5.41 20L4 18.59l7.72-7.72 1.47 1.35L5.41 20z\"/>\n",
              "  </svg>\n",
              "      </button>\n",
              "      \n",
              "  <style>\n",
              "    .colab-df-container {\n",
              "      display:flex;\n",
              "      flex-wrap:wrap;\n",
              "      gap: 12px;\n",
              "    }\n",
              "\n",
              "    .colab-df-convert {\n",
              "      background-color: #E8F0FE;\n",
              "      border: none;\n",
              "      border-radius: 50%;\n",
              "      cursor: pointer;\n",
              "      display: none;\n",
              "      fill: #1967D2;\n",
              "      height: 32px;\n",
              "      padding: 0 0 0 0;\n",
              "      width: 32px;\n",
              "    }\n",
              "\n",
              "    .colab-df-convert:hover {\n",
              "      background-color: #E2EBFA;\n",
              "      box-shadow: 0px 1px 2px rgba(60, 64, 67, 0.3), 0px 1px 3px 1px rgba(60, 64, 67, 0.15);\n",
              "      fill: #174EA6;\n",
              "    }\n",
              "\n",
              "    [theme=dark] .colab-df-convert {\n",
              "      background-color: #3B4455;\n",
              "      fill: #D2E3FC;\n",
              "    }\n",
              "\n",
              "    [theme=dark] .colab-df-convert:hover {\n",
              "      background-color: #434B5C;\n",
              "      box-shadow: 0px 1px 3px 1px rgba(0, 0, 0, 0.15);\n",
              "      filter: drop-shadow(0px 1px 2px rgba(0, 0, 0, 0.3));\n",
              "      fill: #FFFFFF;\n",
              "    }\n",
              "  </style>\n",
              "\n",
              "      <script>\n",
              "        const buttonEl =\n",
              "          document.querySelector('#df-435fa1a8-0ec6-41f0-96d6-977a98832b08 button.colab-df-convert');\n",
              "        buttonEl.style.display =\n",
              "          google.colab.kernel.accessAllowed ? 'block' : 'none';\n",
              "\n",
              "        async function convertToInteractive(key) {\n",
              "          const element = document.querySelector('#df-435fa1a8-0ec6-41f0-96d6-977a98832b08');\n",
              "          const dataTable =\n",
              "            await google.colab.kernel.invokeFunction('convertToInteractive',\n",
              "                                                     [key], {});\n",
              "          if (!dataTable) return;\n",
              "\n",
              "          const docLinkHtml = 'Like what you see? Visit the ' +\n",
              "            '<a target=\"_blank\" href=https://colab.research.google.com/notebooks/data_table.ipynb>data table notebook</a>'\n",
              "            + ' to learn more about interactive tables.';\n",
              "          element.innerHTML = '';\n",
              "          dataTable['output_type'] = 'display_data';\n",
              "          await google.colab.output.renderOutput(dataTable, element);\n",
              "          const docLink = document.createElement('div');\n",
              "          docLink.innerHTML = docLinkHtml;\n",
              "          element.appendChild(docLink);\n",
              "        }\n",
              "      </script>\n",
              "    </div>\n",
              "  </div>\n",
              "  "
            ]
          },
          "metadata": {},
          "execution_count": 7
        }
      ]
    },
    {
      "cell_type": "code",
      "source": [
        "df1.drop('index',axis = 1,inplace = True)"
      ],
      "metadata": {
        "id": "aKSU64eIaITR"
      },
      "execution_count": 8,
      "outputs": []
    },
    {
      "cell_type": "markdown",
      "source": [
        "# **Concatenating the foreign data sets by following its date**"
      ],
      "metadata": {
        "id": "Jtu-g-KSfZce"
      }
    },
    {
      "cell_type": "code",
      "source": [
        "foreign = [fv_2016,fv_2017,fv_2018,fv_2019]\n",
        "\n",
        "df2 = pd.concat(foreign)\n",
        "df_foreign =df2"
      ],
      "metadata": {
        "id": "FaR2NW3FefcW"
      },
      "execution_count": 9,
      "outputs": []
    },
    {
      "cell_type": "code",
      "source": [
        "df2.tail(10)"
      ],
      "metadata": {
        "colab": {
          "base_uri": "https://localhost:8080/",
          "height": 363
        },
        "id": "jZmbfXAGe0B_",
        "outputId": "a379b6d1-fed8-4f01-d85f-28a80f77ba12"
      },
      "execution_count": 10,
      "outputs": [
        {
          "output_type": "execute_result",
          "data": {
            "text/plain": [
              "            district        date      month  year visitors\n",
              "386  Yadadri Bhongir  01-03-2019      March  2019        0\n",
              "387  Yadadri Bhongir  01-04-2019      April  2019        0\n",
              "388  Yadadri Bhongir  01-05-2019        May  2019        0\n",
              "389  Yadadri Bhongir  01-06-2019       June  2019        0\n",
              "390  Yadadri Bhongir  01-07-2019       July  2019        0\n",
              "391  Yadadri Bhongir  01-08-2019     August  2019        0\n",
              "392  Yadadri Bhongir  01-09-2019  September  2019        0\n",
              "393  Yadadri Bhongir  01-10-2019    October  2019        0\n",
              "394  Yadadri Bhongir  01-11-2019   November  2019        0\n",
              "395  Yadadri Bhongir  01-12-2019   December  2019        0"
            ],
            "text/html": [
              "\n",
              "  <div id=\"df-e357c8f9-adf3-4b45-aa9e-49e2883a7cd4\">\n",
              "    <div class=\"colab-df-container\">\n",
              "      <div>\n",
              "<style scoped>\n",
              "    .dataframe tbody tr th:only-of-type {\n",
              "        vertical-align: middle;\n",
              "    }\n",
              "\n",
              "    .dataframe tbody tr th {\n",
              "        vertical-align: top;\n",
              "    }\n",
              "\n",
              "    .dataframe thead th {\n",
              "        text-align: right;\n",
              "    }\n",
              "</style>\n",
              "<table border=\"1\" class=\"dataframe\">\n",
              "  <thead>\n",
              "    <tr style=\"text-align: right;\">\n",
              "      <th></th>\n",
              "      <th>district</th>\n",
              "      <th>date</th>\n",
              "      <th>month</th>\n",
              "      <th>year</th>\n",
              "      <th>visitors</th>\n",
              "    </tr>\n",
              "  </thead>\n",
              "  <tbody>\n",
              "    <tr>\n",
              "      <th>386</th>\n",
              "      <td>Yadadri Bhongir</td>\n",
              "      <td>01-03-2019</td>\n",
              "      <td>March</td>\n",
              "      <td>2019</td>\n",
              "      <td>0</td>\n",
              "    </tr>\n",
              "    <tr>\n",
              "      <th>387</th>\n",
              "      <td>Yadadri Bhongir</td>\n",
              "      <td>01-04-2019</td>\n",
              "      <td>April</td>\n",
              "      <td>2019</td>\n",
              "      <td>0</td>\n",
              "    </tr>\n",
              "    <tr>\n",
              "      <th>388</th>\n",
              "      <td>Yadadri Bhongir</td>\n",
              "      <td>01-05-2019</td>\n",
              "      <td>May</td>\n",
              "      <td>2019</td>\n",
              "      <td>0</td>\n",
              "    </tr>\n",
              "    <tr>\n",
              "      <th>389</th>\n",
              "      <td>Yadadri Bhongir</td>\n",
              "      <td>01-06-2019</td>\n",
              "      <td>June</td>\n",
              "      <td>2019</td>\n",
              "      <td>0</td>\n",
              "    </tr>\n",
              "    <tr>\n",
              "      <th>390</th>\n",
              "      <td>Yadadri Bhongir</td>\n",
              "      <td>01-07-2019</td>\n",
              "      <td>July</td>\n",
              "      <td>2019</td>\n",
              "      <td>0</td>\n",
              "    </tr>\n",
              "    <tr>\n",
              "      <th>391</th>\n",
              "      <td>Yadadri Bhongir</td>\n",
              "      <td>01-08-2019</td>\n",
              "      <td>August</td>\n",
              "      <td>2019</td>\n",
              "      <td>0</td>\n",
              "    </tr>\n",
              "    <tr>\n",
              "      <th>392</th>\n",
              "      <td>Yadadri Bhongir</td>\n",
              "      <td>01-09-2019</td>\n",
              "      <td>September</td>\n",
              "      <td>2019</td>\n",
              "      <td>0</td>\n",
              "    </tr>\n",
              "    <tr>\n",
              "      <th>393</th>\n",
              "      <td>Yadadri Bhongir</td>\n",
              "      <td>01-10-2019</td>\n",
              "      <td>October</td>\n",
              "      <td>2019</td>\n",
              "      <td>0</td>\n",
              "    </tr>\n",
              "    <tr>\n",
              "      <th>394</th>\n",
              "      <td>Yadadri Bhongir</td>\n",
              "      <td>01-11-2019</td>\n",
              "      <td>November</td>\n",
              "      <td>2019</td>\n",
              "      <td>0</td>\n",
              "    </tr>\n",
              "    <tr>\n",
              "      <th>395</th>\n",
              "      <td>Yadadri Bhongir</td>\n",
              "      <td>01-12-2019</td>\n",
              "      <td>December</td>\n",
              "      <td>2019</td>\n",
              "      <td>0</td>\n",
              "    </tr>\n",
              "  </tbody>\n",
              "</table>\n",
              "</div>\n",
              "      <button class=\"colab-df-convert\" onclick=\"convertToInteractive('df-e357c8f9-adf3-4b45-aa9e-49e2883a7cd4')\"\n",
              "              title=\"Convert this dataframe to an interactive table.\"\n",
              "              style=\"display:none;\">\n",
              "        \n",
              "  <svg xmlns=\"http://www.w3.org/2000/svg\" height=\"24px\"viewBox=\"0 0 24 24\"\n",
              "       width=\"24px\">\n",
              "    <path d=\"M0 0h24v24H0V0z\" fill=\"none\"/>\n",
              "    <path d=\"M18.56 5.44l.94 2.06.94-2.06 2.06-.94-2.06-.94-.94-2.06-.94 2.06-2.06.94zm-11 1L8.5 8.5l.94-2.06 2.06-.94-2.06-.94L8.5 2.5l-.94 2.06-2.06.94zm10 10l.94 2.06.94-2.06 2.06-.94-2.06-.94-.94-2.06-.94 2.06-2.06.94z\"/><path d=\"M17.41 7.96l-1.37-1.37c-.4-.4-.92-.59-1.43-.59-.52 0-1.04.2-1.43.59L10.3 9.45l-7.72 7.72c-.78.78-.78 2.05 0 2.83L4 21.41c.39.39.9.59 1.41.59.51 0 1.02-.2 1.41-.59l7.78-7.78 2.81-2.81c.8-.78.8-2.07 0-2.86zM5.41 20L4 18.59l7.72-7.72 1.47 1.35L5.41 20z\"/>\n",
              "  </svg>\n",
              "      </button>\n",
              "      \n",
              "  <style>\n",
              "    .colab-df-container {\n",
              "      display:flex;\n",
              "      flex-wrap:wrap;\n",
              "      gap: 12px;\n",
              "    }\n",
              "\n",
              "    .colab-df-convert {\n",
              "      background-color: #E8F0FE;\n",
              "      border: none;\n",
              "      border-radius: 50%;\n",
              "      cursor: pointer;\n",
              "      display: none;\n",
              "      fill: #1967D2;\n",
              "      height: 32px;\n",
              "      padding: 0 0 0 0;\n",
              "      width: 32px;\n",
              "    }\n",
              "\n",
              "    .colab-df-convert:hover {\n",
              "      background-color: #E2EBFA;\n",
              "      box-shadow: 0px 1px 2px rgba(60, 64, 67, 0.3), 0px 1px 3px 1px rgba(60, 64, 67, 0.15);\n",
              "      fill: #174EA6;\n",
              "    }\n",
              "\n",
              "    [theme=dark] .colab-df-convert {\n",
              "      background-color: #3B4455;\n",
              "      fill: #D2E3FC;\n",
              "    }\n",
              "\n",
              "    [theme=dark] .colab-df-convert:hover {\n",
              "      background-color: #434B5C;\n",
              "      box-shadow: 0px 1px 3px 1px rgba(0, 0, 0, 0.15);\n",
              "      filter: drop-shadow(0px 1px 2px rgba(0, 0, 0, 0.3));\n",
              "      fill: #FFFFFF;\n",
              "    }\n",
              "  </style>\n",
              "\n",
              "      <script>\n",
              "        const buttonEl =\n",
              "          document.querySelector('#df-e357c8f9-adf3-4b45-aa9e-49e2883a7cd4 button.colab-df-convert');\n",
              "        buttonEl.style.display =\n",
              "          google.colab.kernel.accessAllowed ? 'block' : 'none';\n",
              "\n",
              "        async function convertToInteractive(key) {\n",
              "          const element = document.querySelector('#df-e357c8f9-adf3-4b45-aa9e-49e2883a7cd4');\n",
              "          const dataTable =\n",
              "            await google.colab.kernel.invokeFunction('convertToInteractive',\n",
              "                                                     [key], {});\n",
              "          if (!dataTable) return;\n",
              "\n",
              "          const docLinkHtml = 'Like what you see? Visit the ' +\n",
              "            '<a target=\"_blank\" href=https://colab.research.google.com/notebooks/data_table.ipynb>data table notebook</a>'\n",
              "            + ' to learn more about interactive tables.';\n",
              "          element.innerHTML = '';\n",
              "          dataTable['output_type'] = 'display_data';\n",
              "          await google.colab.output.renderOutput(dataTable, element);\n",
              "          const docLink = document.createElement('div');\n",
              "          docLink.innerHTML = docLinkHtml;\n",
              "          element.appendChild(docLink);\n",
              "        }\n",
              "      </script>\n",
              "    </div>\n",
              "  </div>\n",
              "  "
            ]
          },
          "metadata": {},
          "execution_count": 10
        }
      ]
    },
    {
      "cell_type": "code",
      "source": [
        "df2 = df2.reset_index()"
      ],
      "metadata": {
        "id": "KHi7_RHBbRMt"
      },
      "execution_count": 11,
      "outputs": []
    },
    {
      "cell_type": "code",
      "source": [
        "df2.drop('index',axis = 1,inplace =True )"
      ],
      "metadata": {
        "id": "hJIERUtAbUjM"
      },
      "execution_count": 12,
      "outputs": []
    },
    {
      "cell_type": "code",
      "source": [
        "df1.shape"
      ],
      "metadata": {
        "colab": {
          "base_uri": "https://localhost:8080/"
        },
        "id": "UwYiTccDfcmf",
        "outputId": "085173f2-17f4-422e-a6ee-9f38e67a2b98"
      },
      "execution_count": 13,
      "outputs": [
        {
          "output_type": "execute_result",
          "data": {
            "text/plain": [
              "(1512, 5)"
            ]
          },
          "metadata": {},
          "execution_count": 13
        }
      ]
    },
    {
      "cell_type": "code",
      "source": [
        "df2.shape"
      ],
      "metadata": {
        "colab": {
          "base_uri": "https://localhost:8080/"
        },
        "id": "aGgt-JndhD64",
        "outputId": "7e61f83c-761e-4490-994a-321a3e9f67aa"
      },
      "execution_count": 14,
      "outputs": [
        {
          "output_type": "execute_result",
          "data": {
            "text/plain": [
              "(1512, 5)"
            ]
          },
          "metadata": {},
          "execution_count": 14
        }
      ]
    },
    {
      "cell_type": "markdown",
      "source": [
        "# **Checking null values**"
      ],
      "metadata": {
        "id": "iC2mLKKmkUmO"
      }
    },
    {
      "cell_type": "code",
      "source": [
        "df1.isnull().sum()"
      ],
      "metadata": {
        "colab": {
          "base_uri": "https://localhost:8080/"
        },
        "id": "8bpHV7TKj-dJ",
        "outputId": "fd61b713-2e9d-425d-8ce7-64a6ef104a8c"
      },
      "execution_count": 15,
      "outputs": [
        {
          "output_type": "execute_result",
          "data": {
            "text/plain": [
              "district     0\n",
              "date         0\n",
              "month        0\n",
              "year         0\n",
              "visitors    30\n",
              "dtype: int64"
            ]
          },
          "metadata": {},
          "execution_count": 15
        }
      ]
    },
    {
      "cell_type": "code",
      "source": [
        "#df1 = df1.fillna(0)"
      ],
      "metadata": {
        "id": "ymJGx2n7k0Vm"
      },
      "execution_count": 16,
      "outputs": []
    },
    {
      "cell_type": "code",
      "source": [
        "df2.isnull().sum()"
      ],
      "metadata": {
        "colab": {
          "base_uri": "https://localhost:8080/"
        },
        "id": "Ao21IuK2kECG",
        "outputId": "35c79524-5ba1-4cef-cdc2-b7af2b9be803"
      },
      "execution_count": 17,
      "outputs": [
        {
          "output_type": "execute_result",
          "data": {
            "text/plain": [
              "district    0\n",
              "date        0\n",
              "month       0\n",
              "year        0\n",
              "visitors    0\n",
              "dtype: int64"
            ]
          },
          "metadata": {},
          "execution_count": 17
        }
      ]
    },
    {
      "cell_type": "markdown",
      "source": [
        "# **Droping duplicates**"
      ],
      "metadata": {
        "id": "2ubb-SvEkZR7"
      }
    },
    {
      "cell_type": "code",
      "source": [
        "df1 = df1.drop_duplicates()"
      ],
      "metadata": {
        "id": "QJ5oG9xAkHO1"
      },
      "execution_count": 18,
      "outputs": []
    },
    {
      "cell_type": "code",
      "source": [
        "df2 = df2.drop_duplicates()"
      ],
      "metadata": {
        "id": "nO7MHY0skSJG"
      },
      "execution_count": 19,
      "outputs": []
    },
    {
      "cell_type": "code",
      "source": [
        "df1.dtypes"
      ],
      "metadata": {
        "colab": {
          "base_uri": "https://localhost:8080/"
        },
        "id": "8Ng5hYDekdpg",
        "outputId": "36592dfe-9563-4d2f-cb00-8a6f03395edd"
      },
      "execution_count": 20,
      "outputs": [
        {
          "output_type": "execute_result",
          "data": {
            "text/plain": [
              "district    object\n",
              "date        object\n",
              "month       object\n",
              "year         int64\n",
              "visitors    object\n",
              "dtype: object"
            ]
          },
          "metadata": {},
          "execution_count": 20
        }
      ]
    },
    {
      "cell_type": "code",
      "source": [
        "df1['visitors'] = df1['visitors'].fillna(0)"
      ],
      "metadata": {
        "id": "1xA58w66vFZb"
      },
      "execution_count": 21,
      "outputs": []
    },
    {
      "cell_type": "code",
      "source": [
        "df1['visitors'] = df1['visitors'].replace('[^0-9]+', '0', regex=True)"
      ],
      "metadata": {
        "id": "8h_l5zC1vn0e"
      },
      "execution_count": 22,
      "outputs": []
    },
    {
      "cell_type": "code",
      "source": [
        "df1['visitors'] = df1['visitors'].astype(int)"
      ],
      "metadata": {
        "id": "UkpFF4-cwJLI"
      },
      "execution_count": 23,
      "outputs": []
    },
    {
      "cell_type": "code",
      "source": [
        "df1['date'] = pd.to_datetime(df1['date'])"
      ],
      "metadata": {
        "id": "ei7S6Lxf3q_9"
      },
      "execution_count": 24,
      "outputs": []
    },
    {
      "cell_type": "code",
      "source": [
        "df1['year'] = df1['year'].astype(int)"
      ],
      "metadata": {
        "id": "MZ68GrL56UL8"
      },
      "execution_count": 25,
      "outputs": []
    },
    {
      "cell_type": "code",
      "source": [
        "df1['month'].value_counts()"
      ],
      "metadata": {
        "colab": {
          "base_uri": "https://localhost:8080/"
        },
        "id": "Bs9VQTGn7k09",
        "outputId": "16d5560f-f4b9-42d2-e760-45fdf3b5c9fd"
      },
      "execution_count": 26,
      "outputs": [
        {
          "output_type": "execute_result",
          "data": {
            "text/plain": [
              "January      126\n",
              "February     126\n",
              "March        126\n",
              "April        126\n",
              "May          126\n",
              "June         126\n",
              "July         126\n",
              "August       126\n",
              "September    126\n",
              "October      126\n",
              "November     126\n",
              "December     126\n",
              "Name: month, dtype: int64"
            ]
          },
          "metadata": {},
          "execution_count": 26
        }
      ]
    },
    {
      "cell_type": "code",
      "source": [
        "df2.dtypes"
      ],
      "metadata": {
        "colab": {
          "base_uri": "https://localhost:8080/"
        },
        "id": "96mQ1E7j8OFt",
        "outputId": "626a9a3c-0d02-43c0-efa5-000730661f04"
      },
      "execution_count": 27,
      "outputs": [
        {
          "output_type": "execute_result",
          "data": {
            "text/plain": [
              "district    object\n",
              "date        object\n",
              "month       object\n",
              "year         int64\n",
              "visitors    object\n",
              "dtype: object"
            ]
          },
          "metadata": {},
          "execution_count": 27
        }
      ]
    },
    {
      "cell_type": "code",
      "source": [
        "df2['visitors'] = df2['visitors'].fillna(0)"
      ],
      "metadata": {
        "id": "IsrD0gUswQFE"
      },
      "execution_count": 28,
      "outputs": []
    },
    {
      "cell_type": "code",
      "source": [
        "df2['visitors'] = df2['visitors'].replace('[^0-9]+', '0', regex=True)"
      ],
      "metadata": {
        "id": "K6j8bR5dwYik"
      },
      "execution_count": 29,
      "outputs": []
    },
    {
      "cell_type": "code",
      "source": [
        "df2['visitors'] = df2['visitors'].astype(int)"
      ],
      "metadata": {
        "id": "QRlkk22lwaBU"
      },
      "execution_count": 30,
      "outputs": []
    },
    {
      "cell_type": "code",
      "source": [
        "df2['date'] = pd.to_datetime(df2['date'])"
      ],
      "metadata": {
        "id": "YPaRg2bV8Vqc"
      },
      "execution_count": 31,
      "outputs": []
    },
    {
      "cell_type": "code",
      "source": [
        "df2['year'] = df2['year'].astype(int)"
      ],
      "metadata": {
        "id": "3UBysuKK8YS9"
      },
      "execution_count": 32,
      "outputs": []
    },
    {
      "cell_type": "markdown",
      "source": [
        "# **(Domestic)Top 10 districts that are highest number of vistors in year(2016-2019)**"
      ],
      "metadata": {
        "id": "vb4Y38gCiZzO"
      }
    },
    {
      "cell_type": "code",
      "source": [
        "plt.figure(figsize=(10,8))\n",
        "(df1.groupby('district')['visitors'].mean()*100).sort_values().plot(kind = 'barh')"
      ],
      "metadata": {
        "colab": {
          "base_uri": "https://localhost:8080/",
          "height": 711
        },
        "id": "B8oy7ZPp1FJf",
        "outputId": "a67a5ab7-4b3b-4981-c061-ce4b143b28ff"
      },
      "execution_count": 33,
      "outputs": [
        {
          "output_type": "execute_result",
          "data": {
            "text/plain": [
              "<Axes: ylabel='district'>"
            ]
          },
          "metadata": {},
          "execution_count": 33
        },
        {
          "output_type": "display_data",
          "data": {
            "text/plain": [
              "<Figure size 1000x800 with 1 Axes>"
            ],
            "image/png": "[encoded data removed]"
          },
          "metadata": {}
        }
      ]
    },
    {
      "cell_type": "markdown",
      "source": [
        "# **Top 10 districts by Domestics visitors**"
      ],
      "metadata": {
        "id": "DdBFNwpJ1Ihy"
      }
    },
    {
      "cell_type": "code",
      "source": [
        "plt.figure(figsize=(10,8))\n",
        "(df1.groupby('district')['visitors'].mean()*100).sort_values().tail(10).plot(kind = 'barh')\n",
        "plt.title('Top 10 districts based on the mean number of visitors')\n",
        "plt.xlabel('Mean number of visitors')\n",
        "plt.ylabel('District')\n",
        "plt.show()"
      ],
      "metadata": {
        "colab": {
          "base_uri": "https://localhost:8080/",
          "height": 718
        },
        "id": "t5Se08JOmHSr",
        "outputId": "28866a70-411e-4f1f-b4c3-0854394dac9c"
      },
      "execution_count": 34,
      "outputs": [
        {
          "output_type": "display_data",
          "data": {
            "text/plain": [
              "<Figure size 1000x800 with 1 Axes>"
            ],
            "image/png": "[encoded data removed]"
          },
          "metadata": {}
        }
      ]
    },
    {
      "cell_type": "markdown",
      "source": [
        "# **Top 3 districts based on compounded annual growth**"
      ],
      "metadata": {
        "id": "_WhNFBLnoJxC"
      }
    },
    {
      "cell_type": "code",
      "source": [
        "df_filtered = df1[(df1['year'] >= 2016) & (df1['year'] <= 2019)]\n",
        "\n",
        "# calculate the CAGR for each district\n",
        "df_cagr = df_filtered.groupby('district').apply(lambda x: (x['visitors'].iloc[-1]/x['visitors'].iloc[0])**(1/4) - 1).reset_index(name='CAGR')\n",
        "\n",
        "# sort the districts by CAGR in descending order\n",
        "top_districts = df_cagr.sort_values('CAGR', ascending=False)['district'].head(3).tolist()\n"
      ],
      "metadata": {
        "colab": {
          "base_uri": "https://localhost:8080/"
        },
        "id": "ywsKCFDv9VFs",
        "outputId": "fcd6a491-5cf4-4979-e487-a4f2107051da"
      },
      "execution_count": 35,
      "outputs": [
        {
          "output_type": "stream",
          "name": "stderr",
          "text": [
            "<ipython-input-35-7acdf794c98c>:4: RuntimeWarning: divide by zero encountered in long_scalars\n",
            "  df_cagr = df_filtered.groupby('district').apply(lambda x: (x['visitors'].iloc[-1]/x['visitors'].iloc[0])**(1/4) - 1).reset_index(name='CAGR')\n",
            "<ipython-input-35-7acdf794c98c>:4: RuntimeWarning: invalid value encountered in long_scalars\n",
            "  df_cagr = df_filtered.groupby('district').apply(lambda x: (x['visitors'].iloc[-1]/x['visitors'].iloc[0])**(1/4) - 1).reset_index(name='CAGR')\n"
          ]
        }
      ]
    },
    {
      "cell_type": "code",
      "source": [
        "sns.countplot(data = df1,x = top_districts)"
      ],
      "metadata": {
        "colab": {
          "base_uri": "https://localhost:8080/",
          "height": 447
        },
        "id": "zJnOYeZd-GQn",
        "outputId": "c1e72943-599a-47fe-b401-b6604014c893"
      },
      "execution_count": 36,
      "outputs": [
        {
          "output_type": "execute_result",
          "data": {
            "text/plain": [
              "<Axes: ylabel='count'>"
            ]
          },
          "metadata": {},
          "execution_count": 36
        },
        {
          "output_type": "display_data",
          "data": {
            "text/plain": [
              "<Figure size 640x480 with 1 Axes>"
            ],
            "image/png": "[encoded data removed]"
          },
          "metadata": {}
        }
      ]
    },
    {
      "cell_type": "markdown",
      "source": [
        "# ****Bottom 3 districts based on compounded annual growth****"
      ],
      "metadata": {
        "id": "Ug1G4kSfogJ-"
      }
    },
    {
      "cell_type": "code",
      "source": [
        "df_filtered = df1[(df1['year'] >= 2016) & (df1['year'] <= 2019)]\n",
        "\n",
        "# calculate the CAGR for each district\n",
        "df_cagr = df_filtered.groupby('district').apply(lambda x: (x['visitors'].iloc[-1]/x['visitors'].iloc[0])**(1/4) - 1).reset_index(name='CAGR')\n",
        "\n",
        "# sort the districts by CAGR in descending order\n",
        "bottom_districts = df_cagr.sort_values('CAGR', ascending=True)['district'].head(3).tolist()"
      ],
      "metadata": {
        "colab": {
          "base_uri": "https://localhost:8080/"
        },
        "id": "pm_f4SiA-dsw",
        "outputId": "438d6c86-9e03-44dc-9a58-2b037b895133"
      },
      "execution_count": 37,
      "outputs": [
        {
          "output_type": "stream",
          "name": "stderr",
          "text": [
            "<ipython-input-37-d004e7ea8578>:4: RuntimeWarning: divide by zero encountered in long_scalars\n",
            "  df_cagr = df_filtered.groupby('district').apply(lambda x: (x['visitors'].iloc[-1]/x['visitors'].iloc[0])**(1/4) - 1).reset_index(name='CAGR')\n",
            "<ipython-input-37-d004e7ea8578>:4: RuntimeWarning: invalid value encountered in long_scalars\n",
            "  df_cagr = df_filtered.groupby('district').apply(lambda x: (x['visitors'].iloc[-1]/x['visitors'].iloc[0])**(1/4) - 1).reset_index(name='CAGR')\n"
          ]
        }
      ]
    },
    {
      "cell_type": "code",
      "source": [
        "sns.countplot(data = df1,x = bottom_districts)"
      ],
      "metadata": {
        "colab": {
          "base_uri": "https://localhost:8080/",
          "height": 447
        },
        "id": "YDUFQ2wB-_pC",
        "outputId": "953e29e4-e828-42e6-d018-4f2b5c96107b"
      },
      "execution_count": 38,
      "outputs": [
        {
          "output_type": "execute_result",
          "data": {
            "text/plain": [
              "<Axes: ylabel='count'>"
            ]
          },
          "metadata": {},
          "execution_count": 38
        },
        {
          "output_type": "display_data",
          "data": {
            "text/plain": [
              "<Figure size 640x480 with 1 Axes>"
            ],
            "image/png": "[encoded data removed]"
          },
          "metadata": {}
        }
      ]
    },
    {
      "cell_type": "markdown",
      "source": [
        "# **highest visitors based on months from (2016 to 2019)**"
      ],
      "metadata": {
        "id": "yUt3d4NJwhWG"
      }
    },
    {
      "cell_type": "code",
      "source": [
        "plt.figure(figsize=(10,8))\n",
        "(df1.groupby('month')['visitors'].mean()*100).sort_values().tail(10).plot(kind = 'barh')\n",
        "plt.title('Highest visitors based on the Months')\n",
        "plt.xlabel('visitors')\n",
        "plt.ylabel('Months')\n",
        "plt.show()"
      ],
      "metadata": {
        "colab": {
          "base_uri": "https://localhost:8080/",
          "height": 718
        },
        "id": "HbqaV3fOmPVR",
        "outputId": "2fd098c5-99b8-4dfe-ea99-12020a56ae6a"
      },
      "execution_count": 39,
      "outputs": [
        {
          "output_type": "display_data",
          "data": {
            "text/plain": [
              "<Figure size 1000x800 with 1 Axes>"
            ],
            "image/png": "[encoded data removed]"
          },
          "metadata": {}
        }
      ]
    },
    {
      "cell_type": "code",
      "source": [
        "# Filter the data for Hyderabad district\n",
        "hyderabad = df1[df1['district'] == 'Hyderabad']\n"
      ],
      "metadata": {
        "id": "JAIQvAdbrIgW"
      },
      "execution_count": 40,
      "outputs": []
    },
    {
      "cell_type": "markdown",
      "source": [
        "# **highest visitors of (Hyderabad) based on months from (2016 to 2019)**"
      ],
      "metadata": {
        "id": "uEjHyRv0w1Pm"
      }
    },
    {
      "cell_type": "code",
      "source": [
        "plt.figure(figsize=(10,8))\n",
        "(hyderabad.groupby('month')['visitors'].mean()*100).sort_values().tail(10).plot(kind = 'barh')\n",
        "plt.title('Highest visitors based on the Months')\n",
        "plt.xlabel('visitors')\n",
        "plt.ylabel('Months')\n",
        "plt.show()"
      ],
      "metadata": {
        "colab": {
          "base_uri": "https://localhost:8080/",
          "height": 718
        },
        "id": "hHCxxiXKv-_I",
        "outputId": "f3ba40c8-41e6-49b9-e270-027c8995526b"
      },
      "execution_count": 41,
      "outputs": [
        {
          "output_type": "display_data",
          "data": {
            "text/plain": [
              "<Figure size 1000x800 with 1 Axes>"
            ],
            "image/png": "[encoded data removed]"
          },
          "metadata": {}
        }
      ]
    },
    {
      "cell_type": "markdown",
      "source": [
        "# **1.The peak month is june in every year were most visitors of domestics public are coming**\n",
        "# **2.The low season month is September in every year were low visitors of domestics public are coming****"
      ],
      "metadata": {
        "id": "v0MaLuIFxPlP"
      }
    },
    {
      "cell_type": "code",
      "source": [
        "df2.head(10)"
      ],
      "metadata": {
        "colab": {
          "base_uri": "https://localhost:8080/",
          "height": 363
        },
        "id": "04IBQ8nlxCLg",
        "outputId": "abaa7796-6664-482f-c413-ec3fc7ce5578"
      },
      "execution_count": 42,
      "outputs": [
        {
          "output_type": "execute_result",
          "data": {
            "text/plain": [
              "   district       date      month  year  visitors\n",
              "0  Adilabad 2016-01-01    January  2016         2\n",
              "1  Adilabad 2016-01-02   February  2016         0\n",
              "2  Adilabad 2016-01-03      March  2016         2\n",
              "3  Adilabad 2016-01-04      April  2016         0\n",
              "4  Adilabad 2016-01-05        May  2016         0\n",
              "5  Adilabad 2016-01-06       June  2016         0\n",
              "6  Adilabad 2016-01-07       July  2016         4\n",
              "7  Adilabad 2016-01-08     August  2016         2\n",
              "8  Adilabad 2016-01-09  September  2016         0\n",
              "9  Adilabad 2016-01-10    October  2016         0"
            ],
            "text/html": [
              "\n",
              "  <div id=\"df-5a9dc2c2-44b7-4e23-8aff-143a40da356f\">\n",
              "    <div class=\"colab-df-container\">\n",
              "      <div>\n",
              "<style scoped>\n",
              "    .dataframe tbody tr th:only-of-type {\n",
              "        vertical-align: middle;\n",
              "    }\n",
              "\n",
              "    .dataframe tbody tr th {\n",
              "        vertical-align: top;\n",
              "    }\n",
              "\n",
              "    .dataframe thead th {\n",
              "        text-align: right;\n",
              "    }\n",
              "</style>\n",
              "<table border=\"1\" class=\"dataframe\">\n",
              "  <thead>\n",
              "    <tr style=\"text-align: right;\">\n",
              "      <th></th>\n",
              "      <th>district</th>\n",
              "      <th>date</th>\n",
              "      <th>month</th>\n",
              "      <th>year</th>\n",
              "      <th>visitors</th>\n",
              "    </tr>\n",
              "  </thead>\n",
              "  <tbody>\n",
              "    <tr>\n",
              "      <th>0</th>\n",
              "      <td>Adilabad</td>\n",
              "      <td>2016-01-01</td>\n",
              "      <td>January</td>\n",
              "      <td>2016</td>\n",
              "      <td>2</td>\n",
              "    </tr>\n",
              "    <tr>\n",
              "      <th>1</th>\n",
              "      <td>Adilabad</td>\n",
              "      <td>2016-01-02</td>\n",
              "      <td>February</td>\n",
              "      <td>2016</td>\n",
              "      <td>0</td>\n",
              "    </tr>\n",
              "    <tr>\n",
              "      <th>2</th>\n",
              "      <td>Adilabad</td>\n",
              "      <td>2016-01-03</td>\n",
              "      <td>March</td>\n",
              "      <td>2016</td>\n",
              "      <td>2</td>\n",
              "    </tr>\n",
              "    <tr>\n",
              "      <th>3</th>\n",
              "      <td>Adilabad</td>\n",
              "      <td>2016-01-04</td>\n",
              "      <td>April</td>\n",
              "      <td>2016</td>\n",
              "      <td>0</td>\n",
              "    </tr>\n",
              "    <tr>\n",
              "      <th>4</th>\n",
              "      <td>Adilabad</td>\n",
              "      <td>2016-01-05</td>\n",
              "      <td>May</td>\n",
              "      <td>2016</td>\n",
              "      <td>0</td>\n",
              "    </tr>\n",
              "    <tr>\n",
              "      <th>5</th>\n",
              "      <td>Adilabad</td>\n",
              "      <td>2016-01-06</td>\n",
              "      <td>June</td>\n",
              "      <td>2016</td>\n",
              "      <td>0</td>\n",
              "    </tr>\n",
              "    <tr>\n",
              "      <th>6</th>\n",
              "      <td>Adilabad</td>\n",
              "      <td>2016-01-07</td>\n",
              "      <td>July</td>\n",
              "      <td>2016</td>\n",
              "      <td>4</td>\n",
              "    </tr>\n",
              "    <tr>\n",
              "      <th>7</th>\n",
              "      <td>Adilabad</td>\n",
              "      <td>2016-01-08</td>\n",
              "      <td>August</td>\n",
              "      <td>2016</td>\n",
              "      <td>2</td>\n",
              "    </tr>\n",
              "    <tr>\n",
              "      <th>8</th>\n",
              "      <td>Adilabad</td>\n",
              "      <td>2016-01-09</td>\n",
              "      <td>September</td>\n",
              "      <td>2016</td>\n",
              "      <td>0</td>\n",
              "    </tr>\n",
              "    <tr>\n",
              "      <th>9</th>\n",
              "      <td>Adilabad</td>\n",
              "      <td>2016-01-10</td>\n",
              "      <td>October</td>\n",
              "      <td>2016</td>\n",
              "      <td>0</td>\n",
              "    </tr>\n",
              "  </tbody>\n",
              "</table>\n",
              "</div>\n",
              "      <button class=\"colab-df-convert\" onclick=\"convertToInteractive('df-5a9dc2c2-44b7-4e23-8aff-143a40da356f')\"\n",
              "              title=\"Convert this dataframe to an interactive table.\"\n",
              "              style=\"display:none;\">\n",
              "        \n",
              "  <svg xmlns=\"http://www.w3.org/2000/svg\" height=\"24px\"viewBox=\"0 0 24 24\"\n",
              "       width=\"24px\">\n",
              "    <path d=\"M0 0h24v24H0V0z\" fill=\"none\"/>\n",
              "    <path d=\"M18.56 5.44l.94 2.06.94-2.06 2.06-.94-2.06-.94-.94-2.06-.94 2.06-2.06.94zm-11 1L8.5 8.5l.94-2.06 2.06-.94-2.06-.94L8.5 2.5l-.94 2.06-2.06.94zm10 10l.94 2.06.94-2.06 2.06-.94-2.06-.94-.94-2.06-.94 2.06-2.06.94z\"/><path d=\"M17.41 7.96l-1.37-1.37c-.4-.4-.92-.59-1.43-.59-.52 0-1.04.2-1.43.59L10.3 9.45l-7.72 7.72c-.78.78-.78 2.05 0 2.83L4 21.41c.39.39.9.59 1.41.59.51 0 1.02-.2 1.41-.59l7.78-7.78 2.81-2.81c.8-.78.8-2.07 0-2.86zM5.41 20L4 18.59l7.72-7.72 1.47 1.35L5.41 20z\"/>\n",
              "  </svg>\n",
              "      </button>\n",
              "      \n",
              "  <style>\n",
              "    .colab-df-container {\n",
              "      display:flex;\n",
              "      flex-wrap:wrap;\n",
              "      gap: 12px;\n",
              "    }\n",
              "\n",
              "    .colab-df-convert {\n",
              "      background-color: #E8F0FE;\n",
              "      border: none;\n",
              "      border-radius: 50%;\n",
              "      cursor: pointer;\n",
              "      display: none;\n",
              "      fill: #1967D2;\n",
              "      height: 32px;\n",
              "      padding: 0 0 0 0;\n",
              "      width: 32px;\n",
              "    }\n",
              "\n",
              "    .colab-df-convert:hover {\n",
              "      background-color: #E2EBFA;\n",
              "      box-shadow: 0px 1px 2px rgba(60, 64, 67, 0.3), 0px 1px 3px 1px rgba(60, 64, 67, 0.15);\n",
              "      fill: #174EA6;\n",
              "    }\n",
              "\n",
              "    [theme=dark] .colab-df-convert {\n",
              "      background-color: #3B4455;\n",
              "      fill: #D2E3FC;\n",
              "    }\n",
              "\n",
              "    [theme=dark] .colab-df-convert:hover {\n",
              "      background-color: #434B5C;\n",
              "      box-shadow: 0px 1px 3px 1px rgba(0, 0, 0, 0.15);\n",
              "      filter: drop-shadow(0px 1px 2px rgba(0, 0, 0, 0.3));\n",
              "      fill: #FFFFFF;\n",
              "    }\n",
              "  </style>\n",
              "\n",
              "      <script>\n",
              "        const buttonEl =\n",
              "          document.querySelector('#df-5a9dc2c2-44b7-4e23-8aff-143a40da356f button.colab-df-convert');\n",
              "        buttonEl.style.display =\n",
              "          google.colab.kernel.accessAllowed ? 'block' : 'none';\n",
              "\n",
              "        async function convertToInteractive(key) {\n",
              "          const element = document.querySelector('#df-5a9dc2c2-44b7-4e23-8aff-143a40da356f');\n",
              "          const dataTable =\n",
              "            await google.colab.kernel.invokeFunction('convertToInteractive',\n",
              "                                                     [key], {});\n",
              "          if (!dataTable) return;\n",
              "\n",
              "          const docLinkHtml = 'Like what you see? Visit the ' +\n",
              "            '<a target=\"_blank\" href=https://colab.research.google.com/notebooks/data_table.ipynb>data table notebook</a>'\n",
              "            + ' to learn more about interactive tables.';\n",
              "          element.innerHTML = '';\n",
              "          dataTable['output_type'] = 'display_data';\n",
              "          await google.colab.output.renderOutput(dataTable, element);\n",
              "          const docLink = document.createElement('div');\n",
              "          docLink.innerHTML = docLinkHtml;\n",
              "          element.appendChild(docLink);\n",
              "        }\n",
              "      </script>\n",
              "    </div>\n",
              "  </div>\n",
              "  "
            ]
          },
          "metadata": {},
          "execution_count": 42
        }
      ]
    },
    {
      "cell_type": "code",
      "source": [
        "df2.dtypes"
      ],
      "metadata": {
        "colab": {
          "base_uri": "https://localhost:8080/"
        },
        "id": "vscRzQrmy912",
        "outputId": "855e3796-4a37-417f-b94c-4812201323f2"
      },
      "execution_count": 43,
      "outputs": [
        {
          "output_type": "execute_result",
          "data": {
            "text/plain": [
              "district            object\n",
              "date        datetime64[ns]\n",
              "month               object\n",
              "year                 int64\n",
              "visitors             int64\n",
              "dtype: object"
            ]
          },
          "metadata": {},
          "execution_count": 43
        }
      ]
    },
    {
      "cell_type": "code",
      "source": [
        "df2.columns = ['foreign_district', 'foreign_date', 'foreign_month','foreign_year','foreign_visitors']"
      ],
      "metadata": {
        "id": "elUE927S529t"
      },
      "execution_count": 44,
      "outputs": []
    },
    {
      "cell_type": "code",
      "source": [
        "df2.head()"
      ],
      "metadata": {
        "colab": {
          "base_uri": "https://localhost:8080/",
          "height": 206
        },
        "id": "IZsKgSnlkJUN",
        "outputId": "e35948bf-f2f2-404e-e246-3bb7889316ce"
      },
      "execution_count": 45,
      "outputs": [
        {
          "output_type": "execute_result",
          "data": {
            "text/plain": [
              "  foreign_district foreign_date foreign_month  foreign_year  foreign_visitors\n",
              "0         Adilabad   2016-01-01       January          2016                 2\n",
              "1         Adilabad   2016-01-02      February          2016                 0\n",
              "2         Adilabad   2016-01-03         March          2016                 2\n",
              "3         Adilabad   2016-01-04         April          2016                 0\n",
              "4         Adilabad   2016-01-05           May          2016                 0"
            ],
            "text/html": [
              "\n",
              "  <div id=\"df-7d81d14f-e4ff-42d3-995f-89c80687c386\">\n",
              "    <div class=\"colab-df-container\">\n",
              "      <div>\n",
              "<style scoped>\n",
              "    .dataframe tbody tr th:only-of-type {\n",
              "        vertical-align: middle;\n",
              "    }\n",
              "\n",
              "    .dataframe tbody tr th {\n",
              "        vertical-align: top;\n",
              "    }\n",
              "\n",
              "    .dataframe thead th {\n",
              "        text-align: right;\n",
              "    }\n",
              "</style>\n",
              "<table border=\"1\" class=\"dataframe\">\n",
              "  <thead>\n",
              "    <tr style=\"text-align: right;\">\n",
              "      <th></th>\n",
              "      <th>foreign_district</th>\n",
              "      <th>foreign_date</th>\n",
              "      <th>foreign_month</th>\n",
              "      <th>foreign_year</th>\n",
              "      <th>foreign_visitors</th>\n",
              "    </tr>\n",
              "  </thead>\n",
              "  <tbody>\n",
              "    <tr>\n",
              "      <th>0</th>\n",
              "      <td>Adilabad</td>\n",
              "      <td>2016-01-01</td>\n",
              "      <td>January</td>\n",
              "      <td>2016</td>\n",
              "      <td>2</td>\n",
              "    </tr>\n",
              "    <tr>\n",
              "      <th>1</th>\n",
              "      <td>Adilabad</td>\n",
              "      <td>2016-01-02</td>\n",
              "      <td>February</td>\n",
              "      <td>2016</td>\n",
              "      <td>0</td>\n",
              "    </tr>\n",
              "    <tr>\n",
              "      <th>2</th>\n",
              "      <td>Adilabad</td>\n",
              "      <td>2016-01-03</td>\n",
              "      <td>March</td>\n",
              "      <td>2016</td>\n",
              "      <td>2</td>\n",
              "    </tr>\n",
              "    <tr>\n",
              "      <th>3</th>\n",
              "      <td>Adilabad</td>\n",
              "      <td>2016-01-04</td>\n",
              "      <td>April</td>\n",
              "      <td>2016</td>\n",
              "      <td>0</td>\n",
              "    </tr>\n",
              "    <tr>\n",
              "      <th>4</th>\n",
              "      <td>Adilabad</td>\n",
              "      <td>2016-01-05</td>\n",
              "      <td>May</td>\n",
              "      <td>2016</td>\n",
              "      <td>0</td>\n",
              "    </tr>\n",
              "  </tbody>\n",
              "</table>\n",
              "</div>\n",
              "      <button class=\"colab-df-convert\" onclick=\"convertToInteractive('df-7d81d14f-e4ff-42d3-995f-89c80687c386')\"\n",
              "              title=\"Convert this dataframe to an interactive table.\"\n",
              "              style=\"display:none;\">\n",
              "        \n",
              "  <svg xmlns=\"http://www.w3.org/2000/svg\" height=\"24px\"viewBox=\"0 0 24 24\"\n",
              "       width=\"24px\">\n",
              "    <path d=\"M0 0h24v24H0V0z\" fill=\"none\"/>\n",
              "    <path d=\"M18.56 5.44l.94 2.06.94-2.06 2.06-.94-2.06-.94-.94-2.06-.94 2.06-2.06.94zm-11 1L8.5 8.5l.94-2.06 2.06-.94-2.06-.94L8.5 2.5l-.94 2.06-2.06.94zm10 10l.94 2.06.94-2.06 2.06-.94-2.06-.94-.94-2.06-.94 2.06-2.06.94z\"/><path d=\"M17.41 7.96l-1.37-1.37c-.4-.4-.92-.59-1.43-.59-.52 0-1.04.2-1.43.59L10.3 9.45l-7.72 7.72c-.78.78-.78 2.05 0 2.83L4 21.41c.39.39.9.59 1.41.59.51 0 1.02-.2 1.41-.59l7.78-7.78 2.81-2.81c.8-.78.8-2.07 0-2.86zM5.41 20L4 18.59l7.72-7.72 1.47 1.35L5.41 20z\"/>\n",
              "  </svg>\n",
              "      </button>\n",
              "      \n",
              "  <style>\n",
              "    .colab-df-container {\n",
              "      display:flex;\n",
              "      flex-wrap:wrap;\n",
              "      gap: 12px;\n",
              "    }\n",
              "\n",
              "    .colab-df-convert {\n",
              "      background-color: #E8F0FE;\n",
              "      border: none;\n",
              "      border-radius: 50%;\n",
              "      cursor: pointer;\n",
              "      display: none;\n",
              "      fill: #1967D2;\n",
              "      height: 32px;\n",
              "      padding: 0 0 0 0;\n",
              "      width: 32px;\n",
              "    }\n",
              "\n",
              "    .colab-df-convert:hover {\n",
              "      background-color: #E2EBFA;\n",
              "      box-shadow: 0px 1px 2px rgba(60, 64, 67, 0.3), 0px 1px 3px 1px rgba(60, 64, 67, 0.15);\n",
              "      fill: #174EA6;\n",
              "    }\n",
              "\n",
              "    [theme=dark] .colab-df-convert {\n",
              "      background-color: #3B4455;\n",
              "      fill: #D2E3FC;\n",
              "    }\n",
              "\n",
              "    [theme=dark] .colab-df-convert:hover {\n",
              "      background-color: #434B5C;\n",
              "      box-shadow: 0px 1px 3px 1px rgba(0, 0, 0, 0.15);\n",
              "      filter: drop-shadow(0px 1px 2px rgba(0, 0, 0, 0.3));\n",
              "      fill: #FFFFFF;\n",
              "    }\n",
              "  </style>\n",
              "\n",
              "      <script>\n",
              "        const buttonEl =\n",
              "          document.querySelector('#df-7d81d14f-e4ff-42d3-995f-89c80687c386 button.colab-df-convert');\n",
              "        buttonEl.style.display =\n",
              "          google.colab.kernel.accessAllowed ? 'block' : 'none';\n",
              "\n",
              "        async function convertToInteractive(key) {\n",
              "          const element = document.querySelector('#df-7d81d14f-e4ff-42d3-995f-89c80687c386');\n",
              "          const dataTable =\n",
              "            await google.colab.kernel.invokeFunction('convertToInteractive',\n",
              "                                                     [key], {});\n",
              "          if (!dataTable) return;\n",
              "\n",
              "          const docLinkHtml = 'Like what you see? Visit the ' +\n",
              "            '<a target=\"_blank\" href=https://colab.research.google.com/notebooks/data_table.ipynb>data table notebook</a>'\n",
              "            + ' to learn more about interactive tables.';\n",
              "          element.innerHTML = '';\n",
              "          dataTable['output_type'] = 'display_data';\n",
              "          await google.colab.output.renderOutput(dataTable, element);\n",
              "          const docLink = document.createElement('div');\n",
              "          docLink.innerHTML = docLinkHtml;\n",
              "          element.appendChild(docLink);\n",
              "        }\n",
              "      </script>\n",
              "    </div>\n",
              "  </div>\n",
              "  "
            ]
          },
          "metadata": {},
          "execution_count": 45
        }
      ]
    },
    {
      "cell_type": "markdown",
      "source": [
        "# **Highest Number of foreign_visitors visiting to Telangana based on year wise**"
      ],
      "metadata": {
        "id": "DKvwvQa-iICU"
      }
    },
    {
      "cell_type": "code",
      "source": [
        "plt.figure(figsize=(10,8))\n",
        "(df2.groupby('foreign_year')['foreign_visitors'].mean()*100).sort_values().plot(kind = 'bar')\n",
        "plt.title('Highest visitors based on the year')\n",
        "plt.xlabel('year')\n",
        "plt.ylabel('visitors')\n",
        "plt.show()"
      ],
      "metadata": {
        "colab": {
          "base_uri": "https://localhost:8080/",
          "height": 739
        },
        "id": "0j68Xn9hh_W6",
        "outputId": "90fe0a5e-7ef3-4171-aa61-ef3b90c00aa0"
      },
      "execution_count": 46,
      "outputs": [
        {
          "output_type": "display_data",
          "data": {
            "text/plain": [
              "<Figure size 1000x800 with 1 Axes>"
            ],
            "image/png": "[encoded data removed]"
          },
          "metadata": {}
        }
      ]
    },
    {
      "cell_type": "markdown",
      "source": [
        "# **Highest Number of foreign_visitors visiting to Telangana based on month wise**"
      ],
      "metadata": {
        "id": "eKuvqj7UmES5"
      }
    },
    {
      "cell_type": "code",
      "source": [
        "plt.figure(figsize=(10,8))\n",
        "(df2.groupby('foreign_month')['foreign_visitors'].mean()*100).sort_values().plot(kind = 'barh')\n",
        "plt.title('Highest visitors based on the Months')\n",
        "plt.xlabel('visitors')\n",
        "plt.ylabel('Months')\n",
        "plt.show()"
      ],
      "metadata": {
        "colab": {
          "base_uri": "https://localhost:8080/",
          "height": 718
        },
        "id": "YTvGeiKniOiU",
        "outputId": "2005fa44-6ebb-4054-8b01-40f163e62aa3"
      },
      "execution_count": 47,
      "outputs": [
        {
          "output_type": "display_data",
          "data": {
            "text/plain": [
              "<Figure size 1000x800 with 1 Axes>"
            ],
            "image/png": "[encoded data removed]"
          },
          "metadata": {}
        }
      ]
    },
    {
      "cell_type": "code",
      "source": [
        "plt.figure(figsize=(10,8))\n",
        "(df2.groupby('foreign_district')['foreign_visitors'].mean()*100).sort_values().plot(kind = 'barh')\n",
        "plt.title('Highest visitors based on the Months')\n",
        "plt.xlabel('visitors')\n",
        "plt.ylabel('Months')\n",
        "plt.show()"
      ],
      "metadata": {
        "colab": {
          "base_uri": "https://localhost:8080/",
          "height": 718
        },
        "id": "aak3O9uzm3j4",
        "outputId": "16721407-1c16-4c3e-bee0-57f63741b481"
      },
      "execution_count": 48,
      "outputs": [
        {
          "output_type": "display_data",
          "data": {
            "text/plain": [
              "<Figure size 1000x800 with 1 Axes>"
            ],
            "image/png": "[encoded data removed]"
          },
          "metadata": {}
        }
      ]
    },
    {
      "cell_type": "markdown",
      "source": [
        "# **Top 3 districts of highest visitors**"
      ],
      "metadata": {
        "id": "NeHa39nXm7KQ"
      }
    },
    {
      "cell_type": "code",
      "source": [
        "plt.figure(figsize=(10,8))\n",
        "(df2.groupby('foreign_district')['foreign_visitors'].mean()*100).sort_values().tail(3).plot(kind = 'barh')\n",
        "plt.title('Highest visitors based on the Months')\n",
        "plt.xlabel('visitors')\n",
        "plt.ylabel('Months')\n",
        "plt.show()"
      ],
      "metadata": {
        "colab": {
          "base_uri": "https://localhost:8080/",
          "height": 718
        },
        "id": "aQ4l549Slf57",
        "outputId": "ba73884a-1afc-4caf-ebfa-7782f2d9cdeb"
      },
      "execution_count": 49,
      "outputs": [
        {
          "output_type": "display_data",
          "data": {
            "text/plain": [
              "<Figure size 1000x800 with 1 Axes>"
            ],
            "image/png": "[encoded data removed]"
          },
          "metadata": {}
        }
      ]
    },
    {
      "cell_type": "markdown",
      "source": [
        "# **Bottom 3 districts of highest visitors** "
      ],
      "metadata": {
        "id": "Y92bGn8JnJK0"
      }
    },
    {
      "cell_type": "code",
      "source": [
        "plt.figure(figsize=(10,8))\n",
        "(df2.groupby('foreign_district')['foreign_visitors'].mean()*100).sort_values().head(3).plot(kind = 'barh')\n",
        "plt.title('Highest visitors based on the Months')\n",
        "plt.xlabel('visitors')\n",
        "plt.ylabel('Months')\n",
        "plt.show()"
      ],
      "metadata": {
        "colab": {
          "base_uri": "https://localhost:8080/",
          "height": 718
        },
        "id": "K_naErEfmoig",
        "outputId": "08d91410-04a9-4e7f-af1e-0664fa8bfb9e"
      },
      "execution_count": 50,
      "outputs": [
        {
          "output_type": "display_data",
          "data": {
            "text/plain": [
              "<Figure size 1000x800 with 1 Axes>"
            ],
            "image/png": "[encoded data removed]"
          },
          "metadata": {}
        }
      ]
    },
    {
      "cell_type": "code",
      "source": [
        "'''df_filtered = df2[(df2['foreign_year'] >= 2016) & (df2['foreign_year'] <= 2019)]\n",
        "\n",
        "# calculate the CAGR for each district\n",
        "df_cagr = df_filtered.groupby('foreign_district').apply(lambda x: (x['foreign_visitors'].iloc[-1]/x['foreign_visitors'].iloc[0])**(1/4) - 1).reset_index(name='CAGR')\n",
        "\n",
        "# sort the districts by CAGR in descending order\n",
        "bottom_districts_f= df_cagr.sort_values('CAGR', ascending=True)['foreign_district'].head(3).tolist()\n",
        "sns.countplot(data = df1,x = bottom_districts_f)'''"
      ],
      "metadata": {
        "colab": {
          "base_uri": "https://localhost:8080/",
          "height": 71
        },
        "id": "NSoUnnpPj2dl",
        "outputId": "897a494b-2d6f-47b7-9722-ecaa5886cd79"
      },
      "execution_count": 51,
      "outputs": [
        {
          "output_type": "execute_result",
          "data": {
            "text/plain": [
              "\"df_filtered = df2[(df2['foreign_year'] >= 2016) & (df2['foreign_year'] <= 2019)]\\n\\n# calculate the CAGR for each district\\ndf_cagr = df_filtered.groupby('foreign_district').apply(lambda x: (x['foreign_visitors'].iloc[-1]/x['foreign_visitors'].iloc[0])**(1/4) - 1).reset_index(name='CAGR')\\n\\n# sort the districts by CAGR in descending order\\nbottom_districts_f= df_cagr.sort_values('CAGR', ascending=True)['foreign_district'].head(3).tolist()\\nsns.countplot(data = df1,x = bottom_districts_f)\""
            ],
            "application/vnd.google.colaboratory.intrinsic+json": {
              "type": "string"
            }
          },
          "metadata": {},
          "execution_count": 51
        }
      ]
    },
    {
      "cell_type": "code",
      "source": [
        "data = df2"
      ],
      "metadata": {
        "id": "JgSzpeEGsFV7"
      },
      "execution_count": 53,
      "outputs": []
    },
    {
      "cell_type": "code",
      "source": [
        "data"
      ],
      "metadata": {
        "colab": {
          "base_uri": "https://localhost:8080/",
          "height": 424
        },
        "id": "lLfKFnGBshyd",
        "outputId": "be9d1cd9-556d-4b7f-8efc-de8e8804d15d"
      },
      "execution_count": 54,
      "outputs": [
        {
          "output_type": "execute_result",
          "data": {
            "text/plain": [
              "     foreign_district foreign_date foreign_month  foreign_year  \\\n",
              "0            Adilabad   2016-01-01       January          2016   \n",
              "1            Adilabad   2016-01-02      February          2016   \n",
              "2            Adilabad   2016-01-03         March          2016   \n",
              "3            Adilabad   2016-01-04         April          2016   \n",
              "4            Adilabad   2016-01-05           May          2016   \n",
              "...               ...          ...           ...           ...   \n",
              "1507  Yadadri Bhongir   2019-01-08        August          2019   \n",
              "1508  Yadadri Bhongir   2019-01-09     September          2019   \n",
              "1509  Yadadri Bhongir   2019-01-10       October          2019   \n",
              "1510  Yadadri Bhongir   2019-01-11      November          2019   \n",
              "1511  Yadadri Bhongir   2019-01-12      December          2019   \n",
              "\n",
              "      foreign_visitors  \n",
              "0                    2  \n",
              "1                    0  \n",
              "2                    2  \n",
              "3                    0  \n",
              "4                    0  \n",
              "...                ...  \n",
              "1507                 0  \n",
              "1508                 0  \n",
              "1509                 0  \n",
              "1510                 0  \n",
              "1511                 0  \n",
              "\n",
              "[1512 rows x 5 columns]"
            ],
            "text/html": [
              "\n",
              "  <div id=\"df-c5ec2075-bb44-4d1f-af0a-4589537ed34c\">\n",
              "    <div class=\"colab-df-container\">\n",
              "      <div>\n",
              "<style scoped>\n",
              "    .dataframe tbody tr th:only-of-type {\n",
              "        vertical-align: middle;\n",
              "    }\n",
              "\n",
              "    .dataframe tbody tr th {\n",
              "        vertical-align: top;\n",
              "    }\n",
              "\n",
              "    .dataframe thead th {\n",
              "        text-align: right;\n",
              "    }\n",
              "</style>\n",
              "<table border=\"1\" class=\"dataframe\">\n",
              "  <thead>\n",
              "    <tr style=\"text-align: right;\">\n",
              "      <th></th>\n",
              "      <th>foreign_district</th>\n",
              "      <th>foreign_date</th>\n",
              "      <th>foreign_month</th>\n",
              "      <th>foreign_year</th>\n",
              "      <th>foreign_visitors</th>\n",
              "    </tr>\n",
              "  </thead>\n",
              "  <tbody>\n",
              "    <tr>\n",
              "      <th>0</th>\n",
              "      <td>Adilabad</td>\n",
              "      <td>2016-01-01</td>\n",
              "      <td>January</td>\n",
              "      <td>2016</td>\n",
              "      <td>2</td>\n",
              "    </tr>\n",
              "    <tr>\n",
              "      <th>1</th>\n",
              "      <td>Adilabad</td>\n",
              "      <td>2016-01-02</td>\n",
              "      <td>February</td>\n",
              "      <td>2016</td>\n",
              "      <td>0</td>\n",
              "    </tr>\n",
              "    <tr>\n",
              "      <th>2</th>\n",
              "      <td>Adilabad</td>\n",
              "      <td>2016-01-03</td>\n",
              "      <td>March</td>\n",
              "      <td>2016</td>\n",
              "      <td>2</td>\n",
              "    </tr>\n",
              "    <tr>\n",
              "      <th>3</th>\n",
              "      <td>Adilabad</td>\n",
              "      <td>2016-01-04</td>\n",
              "      <td>April</td>\n",
              "      <td>2016</td>\n",
              "      <td>0</td>\n",
              "    </tr>\n",
              "    <tr>\n",
              "      <th>4</th>\n",
              "      <td>Adilabad</td>\n",
              "      <td>2016-01-05</td>\n",
              "      <td>May</td>\n",
              "      <td>2016</td>\n",
              "      <td>0</td>\n",
              "    </tr>\n",
              "    <tr>\n",
              "      <th>...</th>\n",
              "      <td>...</td>\n",
              "      <td>...</td>\n",
              "      <td>...</td>\n",
              "      <td>...</td>\n",
              "      <td>...</td>\n",
              "    </tr>\n",
              "    <tr>\n",
              "      <th>1507</th>\n",
              "      <td>Yadadri Bhongir</td>\n",
              "      <td>2019-01-08</td>\n",
              "      <td>August</td>\n",
              "      <td>2019</td>\n",
              "      <td>0</td>\n",
              "    </tr>\n",
              "    <tr>\n",
              "      <th>1508</th>\n",
              "      <td>Yadadri Bhongir</td>\n",
              "      <td>2019-01-09</td>\n",
              "      <td>September</td>\n",
              "      <td>2019</td>\n",
              "      <td>0</td>\n",
              "    </tr>\n",
              "    <tr>\n",
              "      <th>1509</th>\n",
              "      <td>Yadadri Bhongir</td>\n",
              "      <td>2019-01-10</td>\n",
              "      <td>October</td>\n",
              "      <td>2019</td>\n",
              "      <td>0</td>\n",
              "    </tr>\n",
              "    <tr>\n",
              "      <th>1510</th>\n",
              "      <td>Yadadri Bhongir</td>\n",
              "      <td>2019-01-11</td>\n",
              "      <td>November</td>\n",
              "      <td>2019</td>\n",
              "      <td>0</td>\n",
              "    </tr>\n",
              "    <tr>\n",
              "      <th>1511</th>\n",
              "      <td>Yadadri Bhongir</td>\n",
              "      <td>2019-01-12</td>\n",
              "      <td>December</td>\n",
              "      <td>2019</td>\n",
              "      <td>0</td>\n",
              "    </tr>\n",
              "  </tbody>\n",
              "</table>\n",
              "<p>1512 rows × 5 columns</p>\n",
              "</div>\n",
              "      <button class=\"colab-df-convert\" onclick=\"convertToInteractive('df-c5ec2075-bb44-4d1f-af0a-4589537ed34c')\"\n",
              "              title=\"Convert this dataframe to an interactive table.\"\n",
              "              style=\"display:none;\">\n",
              "        \n",
              "  <svg xmlns=\"http://www.w3.org/2000/svg\" height=\"24px\"viewBox=\"0 0 24 24\"\n",
              "       width=\"24px\">\n",
              "    <path d=\"M0 0h24v24H0V0z\" fill=\"none\"/>\n",
              "    <path d=\"M18.56 5.44l.94 2.06.94-2.06 2.06-.94-2.06-.94-.94-2.06-.94 2.06-2.06.94zm-11 1L8.5 8.5l.94-2.06 2.06-.94-2.06-.94L8.5 2.5l-.94 2.06-2.06.94zm10 10l.94 2.06.94-2.06 2.06-.94-2.06-.94-.94-2.06-.94 2.06-2.06.94z\"/><path d=\"M17.41 7.96l-1.37-1.37c-.4-.4-.92-.59-1.43-.59-.52 0-1.04.2-1.43.59L10.3 9.45l-7.72 7.72c-.78.78-.78 2.05 0 2.83L4 21.41c.39.39.9.59 1.41.59.51 0 1.02-.2 1.41-.59l7.78-7.78 2.81-2.81c.8-.78.8-2.07 0-2.86zM5.41 20L4 18.59l7.72-7.72 1.47 1.35L5.41 20z\"/>\n",
              "  </svg>\n",
              "      </button>\n",
              "      \n",
              "  <style>\n",
              "    .colab-df-container {\n",
              "      display:flex;\n",
              "      flex-wrap:wrap;\n",
              "      gap: 12px;\n",
              "    }\n",
              "\n",
              "    .colab-df-convert {\n",
              "      background-color: #E8F0FE;\n",
              "      border: none;\n",
              "      border-radius: 50%;\n",
              "      cursor: pointer;\n",
              "      display: none;\n",
              "      fill: #1967D2;\n",
              "      height: 32px;\n",
              "      padding: 0 0 0 0;\n",
              "      width: 32px;\n",
              "    }\n",
              "\n",
              "    .colab-df-convert:hover {\n",
              "      background-color: #E2EBFA;\n",
              "      box-shadow: 0px 1px 2px rgba(60, 64, 67, 0.3), 0px 1px 3px 1px rgba(60, 64, 67, 0.15);\n",
              "      fill: #174EA6;\n",
              "    }\n",
              "\n",
              "    [theme=dark] .colab-df-convert {\n",
              "      background-color: #3B4455;\n",
              "      fill: #D2E3FC;\n",
              "    }\n",
              "\n",
              "    [theme=dark] .colab-df-convert:hover {\n",
              "      background-color: #434B5C;\n",
              "      box-shadow: 0px 1px 3px 1px rgba(0, 0, 0, 0.15);\n",
              "      filter: drop-shadow(0px 1px 2px rgba(0, 0, 0, 0.3));\n",
              "      fill: #FFFFFF;\n",
              "    }\n",
              "  </style>\n",
              "\n",
              "      <script>\n",
              "        const buttonEl =\n",
              "          document.querySelector('#df-c5ec2075-bb44-4d1f-af0a-4589537ed34c button.colab-df-convert');\n",
              "        buttonEl.style.display =\n",
              "          google.colab.kernel.accessAllowed ? 'block' : 'none';\n",
              "\n",
              "        async function convertToInteractive(key) {\n",
              "          const element = document.querySelector('#df-c5ec2075-bb44-4d1f-af0a-4589537ed34c');\n",
              "          const dataTable =\n",
              "            await google.colab.kernel.invokeFunction('convertToInteractive',\n",
              "                                                     [key], {});\n",
              "          if (!dataTable) return;\n",
              "\n",
              "          const docLinkHtml = 'Like what you see? Visit the ' +\n",
              "            '<a target=\"_blank\" href=https://colab.research.google.com/notebooks/data_table.ipynb>data table notebook</a>'\n",
              "            + ' to learn more about interactive tables.';\n",
              "          element.innerHTML = '';\n",
              "          dataTable['output_type'] = 'display_data';\n",
              "          await google.colab.output.renderOutput(dataTable, element);\n",
              "          const docLink = document.createElement('div');\n",
              "          docLink.innerHTML = docLinkHtml;\n",
              "          element.appendChild(docLink);\n",
              "        }\n",
              "      </script>\n",
              "    </div>\n",
              "  </div>\n",
              "  "
            ]
          },
          "metadata": {},
          "execution_count": 54
        }
      ]
    },
    {
      "cell_type": "markdown",
      "source": [
        "# **Projected number of foreign visitors in Hyderabad in year 2025**"
      ],
      "metadata": {
        "id": "Ib0OEQ7cwazb"
      }
    },
    {
      "cell_type": "code",
      "source": [
        "# Select only Hyderabad data\n",
        "hyd_data = data[data['foreign_district'] == 'Hyderabad']\n",
        "\n",
        "# Calculate growth rate for visitors\n",
        "hyd_data['foreign_growth_rate'] = hyd_data['foreign_visitors'].pct_change()\n",
        "\n",
        "# Drop the first row since it doesn't have a growth rate\n",
        "hyd_data = hyd_data.iloc[1:]\n"
      ],
      "metadata": {
        "colab": {
          "base_uri": "https://localhost:8080/"
        },
        "id": "OuM765r7oT36",
        "outputId": "d2622ca2-01d1-489e-9918-4e4ba4d6c460"
      },
      "execution_count": 55,
      "outputs": [
        {
          "output_type": "stream",
          "name": "stderr",
          "text": [
            "<ipython-input-55-ddcd6ae1f6fe>:5: SettingWithCopyWarning: \n",
            "A value is trying to be set on a copy of a slice from a DataFrame.\n",
            "Try using .loc[row_indexer,col_indexer] = value instead\n",
            "\n",
            "See the caveats in the documentation: https://pandas.pydata.org/pandas-docs/stable/user_guide/indexing.html#returning-a-view-versus-a-copy\n",
            "  hyd_data['foreign_growth_rate'] = hyd_data['foreign_visitors'].pct_change()\n"
          ]
        }
      ]
    },
    {
      "cell_type": "code",
      "source": [
        "hyd_data.head()"
      ],
      "metadata": {
        "colab": {
          "base_uri": "https://localhost:8080/",
          "height": 206
        },
        "id": "-tUl1HMRq2qT",
        "outputId": "105b0586-a587-4649-d9be-533233015f5b"
      },
      "execution_count": 58,
      "outputs": [
        {
          "output_type": "execute_result",
          "data": {
            "text/plain": [
              "   foreign_district foreign_date foreign_month  foreign_year  \\\n",
              "25        Hyderabad   2016-01-02      February          2016   \n",
              "26        Hyderabad   2016-01-03         March          2016   \n",
              "27        Hyderabad   2016-01-04         April          2016   \n",
              "28        Hyderabad   2016-01-05           May          2016   \n",
              "29        Hyderabad   2016-01-06          June          2016   \n",
              "\n",
              "    foreign_visitors  foreign_growth_rate  \n",
              "25             29646             0.868642  \n",
              "26             13019            -0.560851  \n",
              "27              8402            -0.354636  \n",
              "28              8522             0.014282  \n",
              "29             10284             0.206759  "
            ],
            "text/html": [
              "\n",
              "  <div id=\"df-85b14032-19a6-4387-b88b-1762aa3b9308\">\n",
              "    <div class=\"colab-df-container\">\n",
              "      <div>\n",
              "<style scoped>\n",
              "    .dataframe tbody tr th:only-of-type {\n",
              "        vertical-align: middle;\n",
              "    }\n",
              "\n",
              "    .dataframe tbody tr th {\n",
              "        vertical-align: top;\n",
              "    }\n",
              "\n",
              "    .dataframe thead th {\n",
              "        text-align: right;\n",
              "    }\n",
              "</style>\n",
              "<table border=\"1\" class=\"dataframe\">\n",
              "  <thead>\n",
              "    <tr style=\"text-align: right;\">\n",
              "      <th></th>\n",
              "      <th>foreign_district</th>\n",
              "      <th>foreign_date</th>\n",
              "      <th>foreign_month</th>\n",
              "      <th>foreign_year</th>\n",
              "      <th>foreign_visitors</th>\n",
              "      <th>foreign_growth_rate</th>\n",
              "    </tr>\n",
              "  </thead>\n",
              "  <tbody>\n",
              "    <tr>\n",
              "      <th>25</th>\n",
              "      <td>Hyderabad</td>\n",
              "      <td>2016-01-02</td>\n",
              "      <td>February</td>\n",
              "      <td>2016</td>\n",
              "      <td>29646</td>\n",
              "      <td>0.868642</td>\n",
              "    </tr>\n",
              "    <tr>\n",
              "      <th>26</th>\n",
              "      <td>Hyderabad</td>\n",
              "      <td>2016-01-03</td>\n",
              "      <td>March</td>\n",
              "      <td>2016</td>\n",
              "      <td>13019</td>\n",
              "      <td>-0.560851</td>\n",
              "    </tr>\n",
              "    <tr>\n",
              "      <th>27</th>\n",
              "      <td>Hyderabad</td>\n",
              "      <td>2016-01-04</td>\n",
              "      <td>April</td>\n",
              "      <td>2016</td>\n",
              "      <td>8402</td>\n",
              "      <td>-0.354636</td>\n",
              "    </tr>\n",
              "    <tr>\n",
              "      <th>28</th>\n",
              "      <td>Hyderabad</td>\n",
              "      <td>2016-01-05</td>\n",
              "      <td>May</td>\n",
              "      <td>2016</td>\n",
              "      <td>8522</td>\n",
              "      <td>0.014282</td>\n",
              "    </tr>\n",
              "    <tr>\n",
              "      <th>29</th>\n",
              "      <td>Hyderabad</td>\n",
              "      <td>2016-01-06</td>\n",
              "      <td>June</td>\n",
              "      <td>2016</td>\n",
              "      <td>10284</td>\n",
              "      <td>0.206759</td>\n",
              "    </tr>\n",
              "  </tbody>\n",
              "</table>\n",
              "</div>\n",
              "      <button class=\"colab-df-convert\" onclick=\"convertToInteractive('df-85b14032-19a6-4387-b88b-1762aa3b9308')\"\n",
              "              title=\"Convert this dataframe to an interactive table.\"\n",
              "              style=\"display:none;\">\n",
              "        \n",
              "  <svg xmlns=\"http://www.w3.org/2000/svg\" height=\"24px\"viewBox=\"0 0 24 24\"\n",
              "       width=\"24px\">\n",
              "    <path d=\"M0 0h24v24H0V0z\" fill=\"none\"/>\n",
              "    <path d=\"M18.56 5.44l.94 2.06.94-2.06 2.06-.94-2.06-.94-.94-2.06-.94 2.06-2.06.94zm-11 1L8.5 8.5l.94-2.06 2.06-.94-2.06-.94L8.5 2.5l-.94 2.06-2.06.94zm10 10l.94 2.06.94-2.06 2.06-.94-2.06-.94-.94-2.06-.94 2.06-2.06.94z\"/><path d=\"M17.41 7.96l-1.37-1.37c-.4-.4-.92-.59-1.43-.59-.52 0-1.04.2-1.43.59L10.3 9.45l-7.72 7.72c-.78.78-.78 2.05 0 2.83L4 21.41c.39.39.9.59 1.41.59.51 0 1.02-.2 1.41-.59l7.78-7.78 2.81-2.81c.8-.78.8-2.07 0-2.86zM5.41 20L4 18.59l7.72-7.72 1.47 1.35L5.41 20z\"/>\n",
              "  </svg>\n",
              "      </button>\n",
              "      \n",
              "  <style>\n",
              "    .colab-df-container {\n",
              "      display:flex;\n",
              "      flex-wrap:wrap;\n",
              "      gap: 12px;\n",
              "    }\n",
              "\n",
              "    .colab-df-convert {\n",
              "      background-color: #E8F0FE;\n",
              "      border: none;\n",
              "      border-radius: 50%;\n",
              "      cursor: pointer;\n",
              "      display: none;\n",
              "      fill: #1967D2;\n",
              "      height: 32px;\n",
              "      padding: 0 0 0 0;\n",
              "      width: 32px;\n",
              "    }\n",
              "\n",
              "    .colab-df-convert:hover {\n",
              "      background-color: #E2EBFA;\n",
              "      box-shadow: 0px 1px 2px rgba(60, 64, 67, 0.3), 0px 1px 3px 1px rgba(60, 64, 67, 0.15);\n",
              "      fill: #174EA6;\n",
              "    }\n",
              "\n",
              "    [theme=dark] .colab-df-convert {\n",
              "      background-color: #3B4455;\n",
              "      fill: #D2E3FC;\n",
              "    }\n",
              "\n",
              "    [theme=dark] .colab-df-convert:hover {\n",
              "      background-color: #434B5C;\n",
              "      box-shadow: 0px 1px 3px 1px rgba(0, 0, 0, 0.15);\n",
              "      filter: drop-shadow(0px 1px 2px rgba(0, 0, 0, 0.3));\n",
              "      fill: #FFFFFF;\n",
              "    }\n",
              "  </style>\n",
              "\n",
              "      <script>\n",
              "        const buttonEl =\n",
              "          document.querySelector('#df-85b14032-19a6-4387-b88b-1762aa3b9308 button.colab-df-convert');\n",
              "        buttonEl.style.display =\n",
              "          google.colab.kernel.accessAllowed ? 'block' : 'none';\n",
              "\n",
              "        async function convertToInteractive(key) {\n",
              "          const element = document.querySelector('#df-85b14032-19a6-4387-b88b-1762aa3b9308');\n",
              "          const dataTable =\n",
              "            await google.colab.kernel.invokeFunction('convertToInteractive',\n",
              "                                                     [key], {});\n",
              "          if (!dataTable) return;\n",
              "\n",
              "          const docLinkHtml = 'Like what you see? Visit the ' +\n",
              "            '<a target=\"_blank\" href=https://colab.research.google.com/notebooks/data_table.ipynb>data table notebook</a>'\n",
              "            + ' to learn more about interactive tables.';\n",
              "          element.innerHTML = '';\n",
              "          dataTable['output_type'] = 'display_data';\n",
              "          await google.colab.output.renderOutput(dataTable, element);\n",
              "          const docLink = document.createElement('div');\n",
              "          docLink.innerHTML = docLinkHtml;\n",
              "          element.appendChild(docLink);\n",
              "        }\n",
              "      </script>\n",
              "    </div>\n",
              "  </div>\n",
              "  "
            ]
          },
          "metadata": {},
          "execution_count": 58
        }
      ]
    },
    {
      "cell_type": "code",
      "source": [
        "#Projected_visitors = Current_visitors * (1 + Growth rate) ^ Years"
      ],
      "metadata": {
        "id": "0fqn6Hq3pddC"
      },
      "execution_count": null,
      "outputs": []
    },
    {
      "cell_type": "code",
      "source": [
        "# Define growth rates\n",
        "foreign_growth_rate = hyd_data['foreign_growth_rate'].mean()\n",
        "\n",
        "# Define current number of visitors\n",
        "current_foreign = hyd_data.loc[hyd_data['foreign_year'] == 2019, 'foreign_visitors'].iloc[0]\n",
        "\n",
        "# Define number of years\n",
        "years = 6\n",
        "\n",
        "# Calculate projected number of visitors\n",
        "projected_foreign = current_foreign * (1 + foreign_growth_rate) * years\n",
        "\n",
        "# Print projected numbers\n",
        "print('Projected number of foreign visitors in Hyderabad in 2025:', round(projected_foreign))\n"
      ],
      "metadata": {
        "colab": {
          "base_uri": "https://localhost:8080/"
        },
        "id": "HO9vYo6spgCk",
        "outputId": "cda9e37d-be9a-4c1f-b74a-b86b3115227a"
      },
      "execution_count": 61,
      "outputs": [
        {
          "output_type": "stream",
          "name": "stdout",
          "text": [
            "Projected number of foreign visitors in Hyderabad in 2025: 230443\n"
          ]
        }
      ]
    },
    {
      "cell_type": "markdown",
      "source": [
        "# **The estimating the revenue of Hyderabad in 2025 of each tourist spend average amount average amt(5600)**"
      ],
      "metadata": {
        "id": "k_DnJ_pIvjP8"
      }
    },
    {
      "cell_type": "code",
      "source": [
        "print('The average spend of each foreign tourist is :',round(projected_foreign*5600))"
      ],
      "metadata": {
        "colab": {
          "base_uri": "https://localhost:8080/"
        },
        "id": "ISQIMOLzuCng",
        "outputId": "482b207d-58b8-4420-be1e-fb76cd853675"
      },
      "execution_count": 65,
      "outputs": [
        {
          "output_type": "stream",
          "name": "stdout",
          "text": [
            "The average spend of each foreign tourist is : 1290479669\n"
          ]
        }
      ]
    }
  ]
}