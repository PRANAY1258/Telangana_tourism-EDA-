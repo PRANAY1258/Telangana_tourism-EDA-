{
  "nbformat": 4,
  "nbformat_minor": 0,
  "metadata": {
    "colab": {
      "provenance": []
    },
    "kernelspec": {
      "name": "python3",
      "display_name": "Python 3"
    },
    "language_info": {
      "name": "python"
    }
  },
  "cells": [
    {
      "cell_type": "markdown",
      "source": [
        "# **Importing Libraries**"
      ],
      "metadata": {
        "id": "KJRsBPL8adcr"
      }
    },
    {
      "cell_type": "code",
      "execution_count": 1,
      "metadata": {
        "id": "Gi9RcVMraM4-"
      },
      "outputs": [],
      "source": [
        "import pandas as pd\n",
        "import numpy as np \n",
        "import seaborn as sns\n",
        "import matplotlib.pyplot as plt"
      ]
    },
    {
      "cell_type": "code",
      "source": [
        "dv_2016 = pd.read_csv('/content/domestic_visitors_2016.csv')\n",
        "dv_2017 = pd.read_csv('/content/domestic_visitors_2017.csv')\n",
        "dv_2018 = pd.read_csv('/content/domestic_visitors_2018.csv')\n",
        "dv_2019 = pd.read_csv('/content/domestic_visitors_2019.csv')"
      ],
      "metadata": {
        "id": "9_N9rG3TawnH"
      },
      "execution_count": 2,
      "outputs": []
    },
    {
      "cell_type": "code",
      "source": [
        "fv_2016 = pd.read_csv('/content/foreign_visitors_2016.csv')\n",
        "fv_2017 = pd.read_csv('/content/foreign_visitors_2017.csv')\n",
        "fv_2018 = pd.read_csv('/content/foreign_visitors_2018.csv')\n",
        "fv_2019 = pd.read_csv('/content/foreign_visitors_2019.csv')"
      ],
      "metadata": {
        "id": "GrBnLA5ScHQa"
      },
      "execution_count": 3,
      "outputs": []
    },
    {
      "cell_type": "markdown",
      "source": [
        "# **Concatenating the domestic data sets by following its date**"
      ],
      "metadata": {
        "id": "-wbTuUgTe9SH"
      }
    },
    {
      "cell_type": "code",
      "source": [
        "domestic = [dv_2016,dv_2017,dv_2018,dv_2019]\n",
        "\n",
        "df1 = pd.concat(domestic)"
      ],
      "metadata": {
        "id": "rXsbEdllcWCm"
      },
      "execution_count": 4,
      "outputs": []
    },
    {
      "cell_type": "code",
      "source": [
        "df1.tail(10)"
      ],
      "metadata": {
        "colab": {
          "base_uri": "https://localhost:8080/",
          "height": 363
        },
        "id": "aczJ3es9eILj",
        "outputId": "5d6a3f98-39f4-4741-82ac-52e0c743be15"
      },
      "execution_count": 5,
      "outputs": [
        {
          "output_type": "execute_result",
          "data": {
            "text/plain": [
              "            district        date      month  year visitors\n",
              "386  Yadadri Bhongir  01-03-2019      March  2019   481923\n",
              "387  Yadadri Bhongir  01-04-2019      April  2019   441150\n",
              "388  Yadadri Bhongir  01-05-2019        May  2019   345790\n",
              "389  Yadadri Bhongir  01-06-2019       June  2019   370566\n",
              "390  Yadadri Bhongir  01-07-2019       July  2019   332770\n",
              "391  Yadadri Bhongir  01-08-2019     August  2019   389010\n",
              "392  Yadadri Bhongir  01-09-2019  September  2019   366862\n",
              "393  Yadadri Bhongir  01-10-2019    October  2019   381860\n",
              "394  Yadadri Bhongir  01-11-2019   November  2019   365990\n",
              "395  Yadadri Bhongir  01-12-2019   December  2019   477635"
            ],
            "text/html": [
              "\n",
              "  <div id=\"df-83484650-f733-430d-8ec7-beb0b6b6dfd6\">\n",
              "    <div class=\"colab-df-container\">\n",
              "      <div>\n",
              "<style scoped>\n",
              "    .dataframe tbody tr th:only-of-type {\n",
              "        vertical-align: middle;\n",
              "    }\n",
              "\n",
              "    .dataframe tbody tr th {\n",
              "        vertical-align: top;\n",
              "    }\n",
              "\n",
              "    .dataframe thead th {\n",
              "        text-align: right;\n",
              "    }\n",
              "</style>\n",
              "<table border=\"1\" class=\"dataframe\">\n",
              "  <thead>\n",
              "    <tr style=\"text-align: right;\">\n",
              "      <th></th>\n",
              "      <th>district</th>\n",
              "      <th>date</th>\n",
              "      <th>month</th>\n",
              "      <th>year</th>\n",
              "      <th>visitors</th>\n",
              "    </tr>\n",
              "  </thead>\n",
              "  <tbody>\n",
              "    <tr>\n",
              "      <th>386</th>\n",
              "      <td>Yadadri Bhongir</td>\n",
              "      <td>01-03-2019</td>\n",
              "      <td>March</td>\n",
              "      <td>2019</td>\n",
              "      <td>481923</td>\n",
              "    </tr>\n",
              "    <tr>\n",
              "      <th>387</th>\n",
              "      <td>Yadadri Bhongir</td>\n",
              "      <td>01-04-2019</td>\n",
              "      <td>April</td>\n",
              "      <td>2019</td>\n",
              "      <td>441150</td>\n",
              "    </tr>\n",
              "    <tr>\n",
              "      <th>388</th>\n",
              "      <td>Yadadri Bhongir</td>\n",
              "      <td>01-05-2019</td>\n",
              "      <td>May</td>\n",
              "      <td>2019</td>\n",
              "      <td>345790</td>\n",
              "    </tr>\n",
              "    <tr>\n",
              "      <th>389</th>\n",
              "      <td>Yadadri Bhongir</td>\n",
              "      <td>01-06-2019</td>\n",
              "      <td>June</td>\n",
              "      <td>2019</td>\n",
              "      <td>370566</td>\n",
              "    </tr>\n",
              "    <tr>\n",
              "      <th>390</th>\n",
              "      <td>Yadadri Bhongir</td>\n",
              "      <td>01-07-2019</td>\n",
              "      <td>July</td>\n",
              "      <td>2019</td>\n",
              "      <td>332770</td>\n",
              "    </tr>\n",
              "    <tr>\n",
              "      <th>391</th>\n",
              "      <td>Yadadri Bhongir</td>\n",
              "      <td>01-08-2019</td>\n",
              "      <td>August</td>\n",
              "      <td>2019</td>\n",
              "      <td>389010</td>\n",
              "    </tr>\n",
              "    <tr>\n",
              "      <th>392</th>\n",
              "      <td>Yadadri Bhongir</td>\n",
              "      <td>01-09-2019</td>\n",
              "      <td>September</td>\n",
              "      <td>2019</td>\n",
              "      <td>366862</td>\n",
              "    </tr>\n",
              "    <tr>\n",
              "      <th>393</th>\n",
              "      <td>Yadadri Bhongir</td>\n",
              "      <td>01-10-2019</td>\n",
              "      <td>October</td>\n",
              "      <td>2019</td>\n",
              "      <td>381860</td>\n",
              "    </tr>\n",
              "    <tr>\n",
              "      <th>394</th>\n",
              "      <td>Yadadri Bhongir</td>\n",
              "      <td>01-11-2019</td>\n",
              "      <td>November</td>\n",
              "      <td>2019</td>\n",
              "      <td>365990</td>\n",
              "    </tr>\n",
              "    <tr>\n",
              "      <th>395</th>\n",
              "      <td>Yadadri Bhongir</td>\n",
              "      <td>01-12-2019</td>\n",
              "      <td>December</td>\n",
              "      <td>2019</td>\n",
              "      <td>477635</td>\n",
              "    </tr>\n",
              "  </tbody>\n",
              "</table>\n",
              "</div>\n",
              "      <button class=\"colab-df-convert\" onclick=\"convertToInteractive('df-83484650-f733-430d-8ec7-beb0b6b6dfd6')\"\n",
              "              title=\"Convert this dataframe to an interactive table.\"\n",
              "              style=\"display:none;\">\n",
              "        \n",
              "  <svg xmlns=\"http://www.w3.org/2000/svg\" height=\"24px\"viewBox=\"0 0 24 24\"\n",
              "       width=\"24px\">\n",
              "    <path d=\"M0 0h24v24H0V0z\" fill=\"none\"/>\n",
              "    <path d=\"M18.56 5.44l.94 2.06.94-2.06 2.06-.94-2.06-.94-.94-2.06-.94 2.06-2.06.94zm-11 1L8.5 8.5l.94-2.06 2.06-.94-2.06-.94L8.5 2.5l-.94 2.06-2.06.94zm10 10l.94 2.06.94-2.06 2.06-.94-2.06-.94-.94-2.06-.94 2.06-2.06.94z\"/><path d=\"M17.41 7.96l-1.37-1.37c-.4-.4-.92-.59-1.43-.59-.52 0-1.04.2-1.43.59L10.3 9.45l-7.72 7.72c-.78.78-.78 2.05 0 2.83L4 21.41c.39.39.9.59 1.41.59.51 0 1.02-.2 1.41-.59l7.78-7.78 2.81-2.81c.8-.78.8-2.07 0-2.86zM5.41 20L4 18.59l7.72-7.72 1.47 1.35L5.41 20z\"/>\n",
              "  </svg>\n",
              "      </button>\n",
              "      \n",
              "  <style>\n",
              "    .colab-df-container {\n",
              "      display:flex;\n",
              "      flex-wrap:wrap;\n",
              "      gap: 12px;\n",
              "    }\n",
              "\n",
              "    .colab-df-convert {\n",
              "      background-color: #E8F0FE;\n",
              "      border: none;\n",
              "      border-radius: 50%;\n",
              "      cursor: pointer;\n",
              "      display: none;\n",
              "      fill: #1967D2;\n",
              "      height: 32px;\n",
              "      padding: 0 0 0 0;\n",
              "      width: 32px;\n",
              "    }\n",
              "\n",
              "    .colab-df-convert:hover {\n",
              "      background-color: #E2EBFA;\n",
              "      box-shadow: 0px 1px 2px rgba(60, 64, 67, 0.3), 0px 1px 3px 1px rgba(60, 64, 67, 0.15);\n",
              "      fill: #174EA6;\n",
              "    }\n",
              "\n",
              "    [theme=dark] .colab-df-convert {\n",
              "      background-color: #3B4455;\n",
              "      fill: #D2E3FC;\n",
              "    }\n",
              "\n",
              "    [theme=dark] .colab-df-convert:hover {\n",
              "      background-color: #434B5C;\n",
              "      box-shadow: 0px 1px 3px 1px rgba(0, 0, 0, 0.15);\n",
              "      filter: drop-shadow(0px 1px 2px rgba(0, 0, 0, 0.3));\n",
              "      fill: #FFFFFF;\n",
              "    }\n",
              "  </style>\n",
              "\n",
              "      <script>\n",
              "        const buttonEl =\n",
              "          document.querySelector('#df-83484650-f733-430d-8ec7-beb0b6b6dfd6 button.colab-df-convert');\n",
              "        buttonEl.style.display =\n",
              "          google.colab.kernel.accessAllowed ? 'block' : 'none';\n",
              "\n",
              "        async function convertToInteractive(key) {\n",
              "          const element = document.querySelector('#df-83484650-f733-430d-8ec7-beb0b6b6dfd6');\n",
              "          const dataTable =\n",
              "            await google.colab.kernel.invokeFunction('convertToInteractive',\n",
              "                                                     [key], {});\n",
              "          if (!dataTable) return;\n",
              "\n",
              "          const docLinkHtml = 'Like what you see? Visit the ' +\n",
              "            '<a target=\"_blank\" href=https://colab.research.google.com/notebooks/data_table.ipynb>data table notebook</a>'\n",
              "            + ' to learn more about interactive tables.';\n",
              "          element.innerHTML = '';\n",
              "          dataTable['output_type'] = 'display_data';\n",
              "          await google.colab.output.renderOutput(dataTable, element);\n",
              "          const docLink = document.createElement('div');\n",
              "          docLink.innerHTML = docLinkHtml;\n",
              "          element.appendChild(docLink);\n",
              "        }\n",
              "      </script>\n",
              "    </div>\n",
              "  </div>\n",
              "  "
            ]
          },
          "metadata": {},
          "execution_count": 5
        }
      ]
    },
    {
      "cell_type": "markdown",
      "source": [
        "# **Concatenating the foreign data sets by following its date**"
      ],
      "metadata": {
        "id": "Jtu-g-KSfZce"
      }
    },
    {
      "cell_type": "code",
      "source": [
        "foreign = [fv_2016,fv_2017,fv_2018,fv_2019]\n",
        "\n",
        "df2 = pd.concat(foreign)\n",
        "df_foreign =df2"
      ],
      "metadata": {
        "id": "FaR2NW3FefcW"
      },
      "execution_count": 6,
      "outputs": []
    },
    {
      "cell_type": "code",
      "source": [
        "df2.tail(10)"
      ],
      "metadata": {
        "colab": {
          "base_uri": "https://localhost:8080/",
          "height": 363
        },
        "id": "jZmbfXAGe0B_",
        "outputId": "f2f6eb6d-4678-486b-e0ff-7962cfd15e32"
      },
      "execution_count": 7,
      "outputs": [
        {
          "output_type": "execute_result",
          "data": {
            "text/plain": [
              "            district        date      month  year visitors\n",
              "386  Yadadri Bhongir  01-03-2019      March  2019        0\n",
              "387  Yadadri Bhongir  01-04-2019      April  2019        0\n",
              "388  Yadadri Bhongir  01-05-2019        May  2019        0\n",
              "389  Yadadri Bhongir  01-06-2019       June  2019        0\n",
              "390  Yadadri Bhongir  01-07-2019       July  2019        0\n",
              "391  Yadadri Bhongir  01-08-2019     August  2019        0\n",
              "392  Yadadri Bhongir  01-09-2019  September  2019        0\n",
              "393  Yadadri Bhongir  01-10-2019    October  2019        0\n",
              "394  Yadadri Bhongir  01-11-2019   November  2019        0\n",
              "395  Yadadri Bhongir  01-12-2019   December  2019        0"
            ],
            "text/html": [
              "\n",
              "  <div id=\"df-37cae685-48fe-45f8-9073-c03dcfe4b329\">\n",
              "    <div class=\"colab-df-container\">\n",
              "      <div>\n",
              "<style scoped>\n",
              "    .dataframe tbody tr th:only-of-type {\n",
              "        vertical-align: middle;\n",
              "    }\n",
              "\n",
              "    .dataframe tbody tr th {\n",
              "        vertical-align: top;\n",
              "    }\n",
              "\n",
              "    .dataframe thead th {\n",
              "        text-align: right;\n",
              "    }\n",
              "</style>\n",
              "<table border=\"1\" class=\"dataframe\">\n",
              "  <thead>\n",
              "    <tr style=\"text-align: right;\">\n",
              "      <th></th>\n",
              "      <th>district</th>\n",
              "      <th>date</th>\n",
              "      <th>month</th>\n",
              "      <th>year</th>\n",
              "      <th>visitors</th>\n",
              "    </tr>\n",
              "  </thead>\n",
              "  <tbody>\n",
              "    <tr>\n",
              "      <th>386</th>\n",
              "      <td>Yadadri Bhongir</td>\n",
              "      <td>01-03-2019</td>\n",
              "      <td>March</td>\n",
              "      <td>2019</td>\n",
              "      <td>0</td>\n",
              "    </tr>\n",
              "    <tr>\n",
              "      <th>387</th>\n",
              "      <td>Yadadri Bhongir</td>\n",
              "      <td>01-04-2019</td>\n",
              "      <td>April</td>\n",
              "      <td>2019</td>\n",
              "      <td>0</td>\n",
              "    </tr>\n",
              "    <tr>\n",
              "      <th>388</th>\n",
              "      <td>Yadadri Bhongir</td>\n",
              "      <td>01-05-2019</td>\n",
              "      <td>May</td>\n",
              "      <td>2019</td>\n",
              "      <td>0</td>\n",
              "    </tr>\n",
              "    <tr>\n",
              "      <th>389</th>\n",
              "      <td>Yadadri Bhongir</td>\n",
              "      <td>01-06-2019</td>\n",
              "      <td>June</td>\n",
              "      <td>2019</td>\n",
              "      <td>0</td>\n",
              "    </tr>\n",
              "    <tr>\n",
              "      <th>390</th>\n",
              "      <td>Yadadri Bhongir</td>\n",
              "      <td>01-07-2019</td>\n",
              "      <td>July</td>\n",
              "      <td>2019</td>\n",
              "      <td>0</td>\n",
              "    </tr>\n",
              "    <tr>\n",
              "      <th>391</th>\n",
              "      <td>Yadadri Bhongir</td>\n",
              "      <td>01-08-2019</td>\n",
              "      <td>August</td>\n",
              "      <td>2019</td>\n",
              "      <td>0</td>\n",
              "    </tr>\n",
              "    <tr>\n",
              "      <th>392</th>\n",
              "      <td>Yadadri Bhongir</td>\n",
              "      <td>01-09-2019</td>\n",
              "      <td>September</td>\n",
              "      <td>2019</td>\n",
              "      <td>0</td>\n",
              "    </tr>\n",
              "    <tr>\n",
              "      <th>393</th>\n",
              "      <td>Yadadri Bhongir</td>\n",
              "      <td>01-10-2019</td>\n",
              "      <td>October</td>\n",
              "      <td>2019</td>\n",
              "      <td>0</td>\n",
              "    </tr>\n",
              "    <tr>\n",
              "      <th>394</th>\n",
              "      <td>Yadadri Bhongir</td>\n",
              "      <td>01-11-2019</td>\n",
              "      <td>November</td>\n",
              "      <td>2019</td>\n",
              "      <td>0</td>\n",
              "    </tr>\n",
              "    <tr>\n",
              "      <th>395</th>\n",
              "      <td>Yadadri Bhongir</td>\n",
              "      <td>01-12-2019</td>\n",
              "      <td>December</td>\n",
              "      <td>2019</td>\n",
              "      <td>0</td>\n",
              "    </tr>\n",
              "  </tbody>\n",
              "</table>\n",
              "</div>\n",
              "      <button class=\"colab-df-convert\" onclick=\"convertToInteractive('df-37cae685-48fe-45f8-9073-c03dcfe4b329')\"\n",
              "              title=\"Convert this dataframe to an interactive table.\"\n",
              "              style=\"display:none;\">\n",
              "        \n",
              "  <svg xmlns=\"http://www.w3.org/2000/svg\" height=\"24px\"viewBox=\"0 0 24 24\"\n",
              "       width=\"24px\">\n",
              "    <path d=\"M0 0h24v24H0V0z\" fill=\"none\"/>\n",
              "    <path d=\"M18.56 5.44l.94 2.06.94-2.06 2.06-.94-2.06-.94-.94-2.06-.94 2.06-2.06.94zm-11 1L8.5 8.5l.94-2.06 2.06-.94-2.06-.94L8.5 2.5l-.94 2.06-2.06.94zm10 10l.94 2.06.94-2.06 2.06-.94-2.06-.94-.94-2.06-.94 2.06-2.06.94z\"/><path d=\"M17.41 7.96l-1.37-1.37c-.4-.4-.92-.59-1.43-.59-.52 0-1.04.2-1.43.59L10.3 9.45l-7.72 7.72c-.78.78-.78 2.05 0 2.83L4 21.41c.39.39.9.59 1.41.59.51 0 1.02-.2 1.41-.59l7.78-7.78 2.81-2.81c.8-.78.8-2.07 0-2.86zM5.41 20L4 18.59l7.72-7.72 1.47 1.35L5.41 20z\"/>\n",
              "  </svg>\n",
              "      </button>\n",
              "      \n",
              "  <style>\n",
              "    .colab-df-container {\n",
              "      display:flex;\n",
              "      flex-wrap:wrap;\n",
              "      gap: 12px;\n",
              "    }\n",
              "\n",
              "    .colab-df-convert {\n",
              "      background-color: #E8F0FE;\n",
              "      border: none;\n",
              "      border-radius: 50%;\n",
              "      cursor: pointer;\n",
              "      display: none;\n",
              "      fill: #1967D2;\n",
              "      height: 32px;\n",
              "      padding: 0 0 0 0;\n",
              "      width: 32px;\n",
              "    }\n",
              "\n",
              "    .colab-df-convert:hover {\n",
              "      background-color: #E2EBFA;\n",
              "      box-shadow: 0px 1px 2px rgba(60, 64, 67, 0.3), 0px 1px 3px 1px rgba(60, 64, 67, 0.15);\n",
              "      fill: #174EA6;\n",
              "    }\n",
              "\n",
              "    [theme=dark] .colab-df-convert {\n",
              "      background-color: #3B4455;\n",
              "      fill: #D2E3FC;\n",
              "    }\n",
              "\n",
              "    [theme=dark] .colab-df-convert:hover {\n",
              "      background-color: #434B5C;\n",
              "      box-shadow: 0px 1px 3px 1px rgba(0, 0, 0, 0.15);\n",
              "      filter: drop-shadow(0px 1px 2px rgba(0, 0, 0, 0.3));\n",
              "      fill: #FFFFFF;\n",
              "    }\n",
              "  </style>\n",
              "\n",
              "      <script>\n",
              "        const buttonEl =\n",
              "          document.querySelector('#df-37cae685-48fe-45f8-9073-c03dcfe4b329 button.colab-df-convert');\n",
              "        buttonEl.style.display =\n",
              "          google.colab.kernel.accessAllowed ? 'block' : 'none';\n",
              "\n",
              "        async function convertToInteractive(key) {\n",
              "          const element = document.querySelector('#df-37cae685-48fe-45f8-9073-c03dcfe4b329');\n",
              "          const dataTable =\n",
              "            await google.colab.kernel.invokeFunction('convertToInteractive',\n",
              "                                                     [key], {});\n",
              "          if (!dataTable) return;\n",
              "\n",
              "          const docLinkHtml = 'Like what you see? Visit the ' +\n",
              "            '<a target=\"_blank\" href=https://colab.research.google.com/notebooks/data_table.ipynb>data table notebook</a>'\n",
              "            + ' to learn more about interactive tables.';\n",
              "          element.innerHTML = '';\n",
              "          dataTable['output_type'] = 'display_data';\n",
              "          await google.colab.output.renderOutput(dataTable, element);\n",
              "          const docLink = document.createElement('div');\n",
              "          docLink.innerHTML = docLinkHtml;\n",
              "          element.appendChild(docLink);\n",
              "        }\n",
              "      </script>\n",
              "    </div>\n",
              "  </div>\n",
              "  "
            ]
          },
          "metadata": {},
          "execution_count": 7
        }
      ]
    },
    {
      "cell_type": "code",
      "source": [
        "df1.shape"
      ],
      "metadata": {
        "colab": {
          "base_uri": "https://localhost:8080/"
        },
        "id": "UwYiTccDfcmf",
        "outputId": "cd9d0997-fafc-48a1-e984-c29b18fb9224"
      },
      "execution_count": 8,
      "outputs": [
        {
          "output_type": "execute_result",
          "data": {
            "text/plain": [
              "(1512, 5)"
            ]
          },
          "metadata": {},
          "execution_count": 8
        }
      ]
    },
    {
      "cell_type": "code",
      "source": [
        "df2.shape"
      ],
      "metadata": {
        "colab": {
          "base_uri": "https://localhost:8080/"
        },
        "id": "aGgt-JndhD64",
        "outputId": "47cd99a0-cad9-48a6-ccaa-dc340352f120"
      },
      "execution_count": 9,
      "outputs": [
        {
          "output_type": "execute_result",
          "data": {
            "text/plain": [
              "(1512, 5)"
            ]
          },
          "metadata": {},
          "execution_count": 9
        }
      ]
    },
    {
      "cell_type": "markdown",
      "source": [
        "# **Checking null values**"
      ],
      "metadata": {
        "id": "iC2mLKKmkUmO"
      }
    },
    {
      "cell_type": "code",
      "source": [
        "df1.isnull().sum()"
      ],
      "metadata": {
        "colab": {
          "base_uri": "https://localhost:8080/"
        },
        "id": "8bpHV7TKj-dJ",
        "outputId": "78c92db0-8cef-4fde-d70c-b162499856b8"
      },
      "execution_count": 10,
      "outputs": [
        {
          "output_type": "execute_result",
          "data": {
            "text/plain": [
              "district     0\n",
              "date         0\n",
              "month        0\n",
              "year         0\n",
              "visitors    30\n",
              "dtype: int64"
            ]
          },
          "metadata": {},
          "execution_count": 10
        }
      ]
    },
    {
      "cell_type": "code",
      "source": [
        "#df1 = df1.fillna(0)"
      ],
      "metadata": {
        "id": "ymJGx2n7k0Vm"
      },
      "execution_count": 11,
      "outputs": []
    },
    {
      "cell_type": "code",
      "source": [
        "df2.isnull().sum()"
      ],
      "metadata": {
        "colab": {
          "base_uri": "https://localhost:8080/"
        },
        "id": "Ao21IuK2kECG",
        "outputId": "88b57e99-a9cc-42f3-faf2-fddb7291c696"
      },
      "execution_count": 12,
      "outputs": [
        {
          "output_type": "execute_result",
          "data": {
            "text/plain": [
              "district    0\n",
              "date        0\n",
              "month       0\n",
              "year        0\n",
              "visitors    0\n",
              "dtype: int64"
            ]
          },
          "metadata": {},
          "execution_count": 12
        }
      ]
    },
    {
      "cell_type": "markdown",
      "source": [
        "# **Droping duplicates**"
      ],
      "metadata": {
        "id": "2ubb-SvEkZR7"
      }
    },
    {
      "cell_type": "code",
      "source": [
        "df1 = df1.drop_duplicates()"
      ],
      "metadata": {
        "id": "QJ5oG9xAkHO1"
      },
      "execution_count": 13,
      "outputs": []
    },
    {
      "cell_type": "code",
      "source": [
        "df2 = df2.drop_duplicates()"
      ],
      "metadata": {
        "id": "nO7MHY0skSJG"
      },
      "execution_count": 14,
      "outputs": []
    },
    {
      "cell_type": "code",
      "source": [
        "df1.dtypes"
      ],
      "metadata": {
        "colab": {
          "base_uri": "https://localhost:8080/"
        },
        "id": "8Ng5hYDekdpg",
        "outputId": "3d85bcab-6a92-4da5-b35d-9de9c4adac1c"
      },
      "execution_count": 15,
      "outputs": [
        {
          "output_type": "execute_result",
          "data": {
            "text/plain": [
              "district    object\n",
              "date        object\n",
              "month       object\n",
              "year         int64\n",
              "visitors    object\n",
              "dtype: object"
            ]
          },
          "metadata": {},
          "execution_count": 15
        }
      ]
    },
    {
      "cell_type": "code",
      "source": [
        "df1['visitors'] = df1['visitors'].fillna(0)"
      ],
      "metadata": {
        "id": "1xA58w66vFZb"
      },
      "execution_count": 16,
      "outputs": []
    },
    {
      "cell_type": "code",
      "source": [
        "df1['visitors'] = df1['visitors'].replace('[^0-9]+', '0', regex=True)"
      ],
      "metadata": {
        "id": "8h_l5zC1vn0e"
      },
      "execution_count": 17,
      "outputs": []
    },
    {
      "cell_type": "code",
      "source": [
        "df1['visitors'] = df1['visitors'].astype(int)"
      ],
      "metadata": {
        "id": "UkpFF4-cwJLI"
      },
      "execution_count": 18,
      "outputs": []
    },
    {
      "cell_type": "code",
      "source": [
        "df1['date'] = pd.to_datetime(df1['date'])"
      ],
      "metadata": {
        "id": "ei7S6Lxf3q_9"
      },
      "execution_count": 19,
      "outputs": []
    },
    {
      "cell_type": "code",
      "source": [
        "df1['year'] = df1['year'].astype(int)"
      ],
      "metadata": {
        "id": "MZ68GrL56UL8"
      },
      "execution_count": 20,
      "outputs": []
    },
    {
      "cell_type": "code",
      "source": [
        "df1['month'].value_counts()"
      ],
      "metadata": {
        "colab": {
          "base_uri": "https://localhost:8080/"
        },
        "id": "Bs9VQTGn7k09",
        "outputId": "81f70ae2-96d4-4fb3-a2a2-ed4cbb323a02"
      },
      "execution_count": 21,
      "outputs": [
        {
          "output_type": "execute_result",
          "data": {
            "text/plain": [
              "January      126\n",
              "February     126\n",
              "March        126\n",
              "April        126\n",
              "May          126\n",
              "June         126\n",
              "July         126\n",
              "August       126\n",
              "September    126\n",
              "October      126\n",
              "November     126\n",
              "December     126\n",
              "Name: month, dtype: int64"
            ]
          },
          "metadata": {},
          "execution_count": 21
        }
      ]
    },
    {
      "cell_type": "code",
      "source": [
        "df2.dtypes"
      ],
      "metadata": {
        "colab": {
          "base_uri": "https://localhost:8080/"
        },
        "id": "96mQ1E7j8OFt",
        "outputId": "4b2c87d3-bb72-4158-9d47-f0d49c77bce2"
      },
      "execution_count": 22,
      "outputs": [
        {
          "output_type": "execute_result",
          "data": {
            "text/plain": [
              "district    object\n",
              "date        object\n",
              "month       object\n",
              "year         int64\n",
              "visitors    object\n",
              "dtype: object"
            ]
          },
          "metadata": {},
          "execution_count": 22
        }
      ]
    },
    {
      "cell_type": "code",
      "source": [
        "df2['visitors'] = df2['visitors'].fillna(0)"
      ],
      "metadata": {
        "id": "IsrD0gUswQFE"
      },
      "execution_count": 23,
      "outputs": []
    },
    {
      "cell_type": "code",
      "source": [
        "df2['visitors'] = df2['visitors'].replace('[^0-9]+', '0', regex=True)"
      ],
      "metadata": {
        "id": "K6j8bR5dwYik"
      },
      "execution_count": 24,
      "outputs": []
    },
    {
      "cell_type": "code",
      "source": [
        "df2['visitors'] = df2['visitors'].astype(int)"
      ],
      "metadata": {
        "id": "QRlkk22lwaBU"
      },
      "execution_count": 25,
      "outputs": []
    },
    {
      "cell_type": "code",
      "source": [
        "df2['date'] = pd.to_datetime(df2['date'])"
      ],
      "metadata": {
        "id": "YPaRg2bV8Vqc"
      },
      "execution_count": 26,
      "outputs": []
    },
    {
      "cell_type": "code",
      "source": [
        "df2['year'] = df2['year'].astype(int)"
      ],
      "metadata": {
        "id": "3UBysuKK8YS9"
      },
      "execution_count": 27,
      "outputs": []
    },
    {
      "cell_type": "markdown",
      "source": [
        "# **(Domestic)Top 10 districts that are highest number of vistors in year(2016-2019)**"
      ],
      "metadata": {
        "id": "vb4Y38gCiZzO"
      }
    },
    {
      "cell_type": "code",
      "source": [
        "plt.figure(figsize=(10,8))\n",
        "(df1.groupby('district')['visitors'].mean()*100).sort_values().plot(kind = 'barh')"
      ],
      "metadata": {
        "colab": {
          "base_uri": "https://localhost:8080/",
          "height": 711
        },
        "id": "B8oy7ZPp1FJf",
        "outputId": "470d3ac5-9ae2-4671-b077-c728bf283157"
      },
      "execution_count": 28,
      "outputs": [
        {
          "output_type": "execute_result",
          "data": {
            "text/plain": [
              "<Axes: ylabel='district'>"
            ]
          },
          "metadata": {},
          "execution_count": 28
        },
        {
          "output_type": "display_data",
          "data": {
            "text/plain": [
              "<Figure size 1000x800 with 1 Axes>"
            ],
            "image/png": "[encoded data removed]"
          },
          "metadata": {}
        }
      ]
    },
    {
      "cell_type": "markdown",
      "source": [
        "# **Top 10 districts by Domestics visitors**"
      ],
      "metadata": {
        "id": "DdBFNwpJ1Ihy"
      }
    },
    {
      "cell_type": "code",
      "source": [
        "plt.figure(figsize=(10,8))\n",
        "(df1.groupby('district')['visitors'].mean()*100).sort_values().tail(10).plot(kind = 'barh')\n",
        "plt.title('Top 10 districts based on the mean number of visitors')\n",
        "plt.xlabel('Mean number of visitors')\n",
        "plt.ylabel('District')\n",
        "plt.show()"
      ],
      "metadata": {
        "colab": {
          "base_uri": "https://localhost:8080/",
          "height": 718
        },
        "id": "t5Se08JOmHSr",
        "outputId": "545abd93-6709-4dea-8420-348ed8dc8fb8"
      },
      "execution_count": 29,
      "outputs": [
        {
          "output_type": "display_data",
          "data": {
            "text/plain": [
              "<Figure size 1000x800 with 1 Axes>"
            ],
            "image/png": "[encoded data removed]"
          },
          "metadata": {}
        }
      ]
    },
    {
      "cell_type": "markdown",
      "source": [
        "# **Top 3 districts based on compounded annual growth**"
      ],
      "metadata": {
        "id": "_WhNFBLnoJxC"
      }
    },
    {
      "cell_type": "code",
      "source": [
        "df_filtered = df1[(df1['year'] >= 2016) & (df1['year'] <= 2019)]\n",
        "\n",
        "# calculate the CAGR for each district\n",
        "df_cagr = df_filtered.groupby('district').apply(lambda x: (x['visitors'].iloc[-1]/x['visitors'].iloc[0])**(1/4) - 1).reset_index(name='CAGR')\n",
        "\n",
        "# sort the districts by CAGR in descending order\n",
        "top_districts = df_cagr.sort_values('CAGR', ascending=False)['district'].head(3).tolist()\n"
      ],
      "metadata": {
        "colab": {
          "base_uri": "https://localhost:8080/"
        },
        "id": "ywsKCFDv9VFs",
        "outputId": "7e0da269-34c5-4d2e-aa85-edf90515ef8c"
      },
      "execution_count": 30,
      "outputs": [
        {
          "output_type": "stream",
          "name": "stderr",
          "text": [
            "<ipython-input-30-7acdf794c98c>:4: RuntimeWarning: divide by zero encountered in long_scalars\n",
            "  df_cagr = df_filtered.groupby('district').apply(lambda x: (x['visitors'].iloc[-1]/x['visitors'].iloc[0])**(1/4) - 1).reset_index(name='CAGR')\n",
            "<ipython-input-30-7acdf794c98c>:4: RuntimeWarning: invalid value encountered in long_scalars\n",
            "  df_cagr = df_filtered.groupby('district').apply(lambda x: (x['visitors'].iloc[-1]/x['visitors'].iloc[0])**(1/4) - 1).reset_index(name='CAGR')\n"
          ]
        }
      ]
    },
    {
      "cell_type": "code",
      "source": [
        "sns.countplot(data = df1,x = top_districts)"
      ],
      "metadata": {
        "colab": {
          "base_uri": "https://localhost:8080/",
          "height": 447
        },
        "id": "zJnOYeZd-GQn",
        "outputId": "ff051ba0-0177-4e34-89e3-31fc99f758c6"
      },
      "execution_count": 31,
      "outputs": [
        {
          "output_type": "execute_result",
          "data": {
            "text/plain": [
              "<Axes: ylabel='count'>"
            ]
          },
          "metadata": {},
          "execution_count": 31
        },
        {
          "output_type": "display_data",
          "data": {
            "text/plain": [
              "<Figure size 640x480 with 1 Axes>"
            ],
            "image/png": "[encoded data removed]"
          },
          "metadata": {}
        }
      ]
    },
    {
      "cell_type": "markdown",
      "source": [
        "# ****Bottom 3 districts based on compounded annual growth****"
      ],
      "metadata": {
        "id": "Ug1G4kSfogJ-"
      }
    },
    {
      "cell_type": "code",
      "source": [
        "df_filtered = df1[(df1['year'] >= 2016) & (df1['year'] <= 2019)]\n",
        "\n",
        "# calculate the CAGR for each district\n",
        "df_cagr = df_filtered.groupby('district').apply(lambda x: (x['visitors'].iloc[-1]/x['visitors'].iloc[0])**(1/4) - 1).reset_index(name='CAGR')\n",
        "\n",
        "# sort the districts by CAGR in descending order\n",
        "bottom_districts = df_cagr.sort_values('CAGR', ascending=True)['district'].head(3).tolist()"
      ],
      "metadata": {
        "colab": {
          "base_uri": "https://localhost:8080/"
        },
        "id": "pm_f4SiA-dsw",
        "outputId": "22e0ddff-6654-46c2-e121-4b34f28ffac0"
      },
      "execution_count": 32,
      "outputs": [
        {
          "output_type": "stream",
          "name": "stderr",
          "text": [
            "<ipython-input-32-d004e7ea8578>:4: RuntimeWarning: divide by zero encountered in long_scalars\n",
            "  df_cagr = df_filtered.groupby('district').apply(lambda x: (x['visitors'].iloc[-1]/x['visitors'].iloc[0])**(1/4) - 1).reset_index(name='CAGR')\n",
            "<ipython-input-32-d004e7ea8578>:4: RuntimeWarning: invalid value encountered in long_scalars\n",
            "  df_cagr = df_filtered.groupby('district').apply(lambda x: (x['visitors'].iloc[-1]/x['visitors'].iloc[0])**(1/4) - 1).reset_index(name='CAGR')\n"
          ]
        }
      ]
    },
    {
      "cell_type": "code",
      "source": [
        "sns.countplot(data = df1,x = bottom_districts)"
      ],
      "metadata": {
        "colab": {
          "base_uri": "https://localhost:8080/",
          "height": 447
        },
        "id": "YDUFQ2wB-_pC",
        "outputId": "f34f7941-e30d-469a-a402-a8c9ad0a7e04"
      },
      "execution_count": 33,
      "outputs": [
        {
          "output_type": "execute_result",
          "data": {
            "text/plain": [
              "<Axes: ylabel='count'>"
            ]
          },
          "metadata": {},
          "execution_count": 33
        },
        {
          "output_type": "display_data",
          "data": {
            "text/plain": [
              "<Figure size 640x480 with 1 Axes>"
            ],
            "image/png": "[encoded data removed]"
          },
          "metadata": {}
        }
      ]
    },
    {
      "cell_type": "markdown",
      "source": [
        "# **highest visitors based on months from (2016 to 2019)**"
      ],
      "metadata": {
        "id": "yUt3d4NJwhWG"
      }
    },
    {
      "cell_type": "code",
      "source": [
        "plt.figure(figsize=(10,8))\n",
        "(df1.groupby('month')['visitors'].mean()*100).sort_values().tail(10).plot(kind = 'barh')\n",
        "plt.title('Highest visitors based on the Months')\n",
        "plt.xlabel('visitors')\n",
        "plt.ylabel('Months')\n",
        "plt.show()"
      ],
      "metadata": {
        "colab": {
          "base_uri": "https://localhost:8080/",
          "height": 718
        },
        "id": "HbqaV3fOmPVR",
        "outputId": "68d7f64e-b403-41c4-f896-316177a700a9"
      },
      "execution_count": 34,
      "outputs": [
        {
          "output_type": "display_data",
          "data": {
            "text/plain": [
              "<Figure size 1000x800 with 1 Axes>"
            ],
            "image/png": "[encoded data removed]"
          },
          "metadata": {}
        }
      ]
    },
    {
      "cell_type": "code",
      "source": [
        "# Filter the data for Hyderabad district\n",
        "hyderabad = df1[df1['district'] == 'Hyderabad']\n"
      ],
      "metadata": {
        "id": "JAIQvAdbrIgW"
      },
      "execution_count": 35,
      "outputs": []
    },
    {
      "cell_type": "markdown",
      "source": [
        "# **highest visitors of (Hyderabad) based on months from (2016 to 2019)**"
      ],
      "metadata": {
        "id": "uEjHyRv0w1Pm"
      }
    },
    {
      "cell_type": "code",
      "source": [
        "plt.figure(figsize=(10,8))\n",
        "(hyderabad.groupby('month')['visitors'].mean()*100).sort_values().tail(10).plot(kind = 'barh')\n",
        "plt.title('Highest visitors based on the Months')\n",
        "plt.xlabel('visitors')\n",
        "plt.ylabel('Months')\n",
        "plt.show()"
      ],
      "metadata": {
        "colab": {
          "base_uri": "https://localhost:8080/",
          "height": 718
        },
        "id": "hHCxxiXKv-_I",
        "outputId": "edf5360a-2f0d-420e-ca6c-606d402e19e0"
      },
      "execution_count": 36,
      "outputs": [
        {
          "output_type": "display_data",
          "data": {
            "text/plain": [
              "<Figure size 1000x800 with 1 Axes>"
            ],
            "image/png": "[encoded data removed]"
          },
          "metadata": {}
        }
      ]
    },
    {
      "cell_type": "markdown",
      "source": [
        "# **1.The peak month is june in every year were most visitors of domestics public are coming**\n",
        "# **2.The low season month is September in every year were low visitors of domestics public are coming****"
      ],
      "metadata": {
        "id": "v0MaLuIFxPlP"
      }
    },
    {
      "cell_type": "code",
      "source": [
        "df2.head(10)"
      ],
      "metadata": {
        "colab": {
          "base_uri": "https://localhost:8080/",
          "height": 363
        },
        "id": "04IBQ8nlxCLg",
        "outputId": "67e67cb1-f348-4925-a67e-6cc27a21443d"
      },
      "execution_count": 37,
      "outputs": [
        {
          "output_type": "execute_result",
          "data": {
            "text/plain": [
              "   district       date      month  year  visitors\n",
              "0  Adilabad 2016-01-01    January  2016         2\n",
              "1  Adilabad 2016-01-02   February  2016         0\n",
              "2  Adilabad 2016-01-03      March  2016         2\n",
              "3  Adilabad 2016-01-04      April  2016         0\n",
              "4  Adilabad 2016-01-05        May  2016         0\n",
              "5  Adilabad 2016-01-06       June  2016         0\n",
              "6  Adilabad 2016-01-07       July  2016         4\n",
              "7  Adilabad 2016-01-08     August  2016         2\n",
              "8  Adilabad 2016-01-09  September  2016         0\n",
              "9  Adilabad 2016-01-10    October  2016         0"
            ],
            "text/html": [
              "\n",
              "  <div id=\"df-d15e1a4f-f839-4758-9354-6a08ad88e8cf\">\n",
              "    <div class=\"colab-df-container\">\n",
              "      <div>\n",
              "<style scoped>\n",
              "    .dataframe tbody tr th:only-of-type {\n",
              "        vertical-align: middle;\n",
              "    }\n",
              "\n",
              "    .dataframe tbody tr th {\n",
              "        vertical-align: top;\n",
              "    }\n",
              "\n",
              "    .dataframe thead th {\n",
              "        text-align: right;\n",
              "    }\n",
              "</style>\n",
              "<table border=\"1\" class=\"dataframe\">\n",
              "  <thead>\n",
              "    <tr style=\"text-align: right;\">\n",
              "      <th></th>\n",
              "      <th>district</th>\n",
              "      <th>date</th>\n",
              "      <th>month</th>\n",
              "      <th>year</th>\n",
              "      <th>visitors</th>\n",
              "    </tr>\n",
              "  </thead>\n",
              "  <tbody>\n",
              "    <tr>\n",
              "      <th>0</th>\n",
              "      <td>Adilabad</td>\n",
              "      <td>2016-01-01</td>\n",
              "      <td>January</td>\n",
              "      <td>2016</td>\n",
              "      <td>2</td>\n",
              "    </tr>\n",
              "    <tr>\n",
              "      <th>1</th>\n",
              "      <td>Adilabad</td>\n",
              "      <td>2016-01-02</td>\n",
              "      <td>February</td>\n",
              "      <td>2016</td>\n",
              "      <td>0</td>\n",
              "    </tr>\n",
              "    <tr>\n",
              "      <th>2</th>\n",
              "      <td>Adilabad</td>\n",
              "      <td>2016-01-03</td>\n",
              "      <td>March</td>\n",
              "      <td>2016</td>\n",
              "      <td>2</td>\n",
              "    </tr>\n",
              "    <tr>\n",
              "      <th>3</th>\n",
              "      <td>Adilabad</td>\n",
              "      <td>2016-01-04</td>\n",
              "      <td>April</td>\n",
              "      <td>2016</td>\n",
              "      <td>0</td>\n",
              "    </tr>\n",
              "    <tr>\n",
              "      <th>4</th>\n",
              "      <td>Adilabad</td>\n",
              "      <td>2016-01-05</td>\n",
              "      <td>May</td>\n",
              "      <td>2016</td>\n",
              "      <td>0</td>\n",
              "    </tr>\n",
              "    <tr>\n",
              "      <th>5</th>\n",
              "      <td>Adilabad</td>\n",
              "      <td>2016-01-06</td>\n",
              "      <td>June</td>\n",
              "      <td>2016</td>\n",
              "      <td>0</td>\n",
              "    </tr>\n",
              "    <tr>\n",
              "      <th>6</th>\n",
              "      <td>Adilabad</td>\n",
              "      <td>2016-01-07</td>\n",
              "      <td>July</td>\n",
              "      <td>2016</td>\n",
              "      <td>4</td>\n",
              "    </tr>\n",
              "    <tr>\n",
              "      <th>7</th>\n",
              "      <td>Adilabad</td>\n",
              "      <td>2016-01-08</td>\n",
              "      <td>August</td>\n",
              "      <td>2016</td>\n",
              "      <td>2</td>\n",
              "    </tr>\n",
              "    <tr>\n",
              "      <th>8</th>\n",
              "      <td>Adilabad</td>\n",
              "      <td>2016-01-09</td>\n",
              "      <td>September</td>\n",
              "      <td>2016</td>\n",
              "      <td>0</td>\n",
              "    </tr>\n",
              "    <tr>\n",
              "      <th>9</th>\n",
              "      <td>Adilabad</td>\n",
              "      <td>2016-01-10</td>\n",
              "      <td>October</td>\n",
              "      <td>2016</td>\n",
              "      <td>0</td>\n",
              "    </tr>\n",
              "  </tbody>\n",
              "</table>\n",
              "</div>\n",
              "      <button class=\"colab-df-convert\" onclick=\"convertToInteractive('df-d15e1a4f-f839-4758-9354-6a08ad88e8cf')\"\n",
              "              title=\"Convert this dataframe to an interactive table.\"\n",
              "              style=\"display:none;\">\n",
              "        \n",
              "  <svg xmlns=\"http://www.w3.org/2000/svg\" height=\"24px\"viewBox=\"0 0 24 24\"\n",
              "       width=\"24px\">\n",
              "    <path d=\"M0 0h24v24H0V0z\" fill=\"none\"/>\n",
              "    <path d=\"M18.56 5.44l.94 2.06.94-2.06 2.06-.94-2.06-.94-.94-2.06-.94 2.06-2.06.94zm-11 1L8.5 8.5l.94-2.06 2.06-.94-2.06-.94L8.5 2.5l-.94 2.06-2.06.94zm10 10l.94 2.06.94-2.06 2.06-.94-2.06-.94-.94-2.06-.94 2.06-2.06.94z\"/><path d=\"M17.41 7.96l-1.37-1.37c-.4-.4-.92-.59-1.43-.59-.52 0-1.04.2-1.43.59L10.3 9.45l-7.72 7.72c-.78.78-.78 2.05 0 2.83L4 21.41c.39.39.9.59 1.41.59.51 0 1.02-.2 1.41-.59l7.78-7.78 2.81-2.81c.8-.78.8-2.07 0-2.86zM5.41 20L4 18.59l7.72-7.72 1.47 1.35L5.41 20z\"/>\n",
              "  </svg>\n",
              "      </button>\n",
              "      \n",
              "  <style>\n",
              "    .colab-df-container {\n",
              "      display:flex;\n",
              "      flex-wrap:wrap;\n",
              "      gap: 12px;\n",
              "    }\n",
              "\n",
              "    .colab-df-convert {\n",
              "      background-color: #E8F0FE;\n",
              "      border: none;\n",
              "      border-radius: 50%;\n",
              "      cursor: pointer;\n",
              "      display: none;\n",
              "      fill: #1967D2;\n",
              "      height: 32px;\n",
              "      padding: 0 0 0 0;\n",
              "      width: 32px;\n",
              "    }\n",
              "\n",
              "    .colab-df-convert:hover {\n",
              "      background-color: #E2EBFA;\n",
              "      box-shadow: 0px 1px 2px rgba(60, 64, 67, 0.3), 0px 1px 3px 1px rgba(60, 64, 67, 0.15);\n",
              "      fill: #174EA6;\n",
              "    }\n",
              "\n",
              "    [theme=dark] .colab-df-convert {\n",
              "      background-color: #3B4455;\n",
              "      fill: #D2E3FC;\n",
              "    }\n",
              "\n",
              "    [theme=dark] .colab-df-convert:hover {\n",
              "      background-color: #434B5C;\n",
              "      box-shadow: 0px 1px 3px 1px rgba(0, 0, 0, 0.15);\n",
              "      filter: drop-shadow(0px 1px 2px rgba(0, 0, 0, 0.3));\n",
              "      fill: #FFFFFF;\n",
              "    }\n",
              "  </style>\n",
              "\n",
              "      <script>\n",
              "        const buttonEl =\n",
              "          document.querySelector('#df-d15e1a4f-f839-4758-9354-6a08ad88e8cf button.colab-df-convert');\n",
              "        buttonEl.style.display =\n",
              "          google.colab.kernel.accessAllowed ? 'block' : 'none';\n",
              "\n",
              "        async function convertToInteractive(key) {\n",
              "          const element = document.querySelector('#df-d15e1a4f-f839-4758-9354-6a08ad88e8cf');\n",
              "          const dataTable =\n",
              "            await google.colab.kernel.invokeFunction('convertToInteractive',\n",
              "                                                     [key], {});\n",
              "          if (!dataTable) return;\n",
              "\n",
              "          const docLinkHtml = 'Like what you see? Visit the ' +\n",
              "            '<a target=\"_blank\" href=https://colab.research.google.com/notebooks/data_table.ipynb>data table notebook</a>'\n",
              "            + ' to learn more about interactive tables.';\n",
              "          element.innerHTML = '';\n",
              "          dataTable['output_type'] = 'display_data';\n",
              "          await google.colab.output.renderOutput(dataTable, element);\n",
              "          const docLink = document.createElement('div');\n",
              "          docLink.innerHTML = docLinkHtml;\n",
              "          element.appendChild(docLink);\n",
              "        }\n",
              "      </script>\n",
              "    </div>\n",
              "  </div>\n",
              "  "
            ]
          },
          "metadata": {},
          "execution_count": 37
        }
      ]
    },
    {
      "cell_type": "code",
      "source": [
        "df2.dtypes"
      ],
      "metadata": {
        "colab": {
          "base_uri": "https://localhost:8080/"
        },
        "id": "vscRzQrmy912",
        "outputId": "da87362e-fc38-4b9a-918d-3f5ec0091578"
      },
      "execution_count": 38,
      "outputs": [
        {
          "output_type": "execute_result",
          "data": {
            "text/plain": [
              "district            object\n",
              "date        datetime64[ns]\n",
              "month               object\n",
              "year                 int64\n",
              "visitors             int64\n",
              "dtype: object"
            ]
          },
          "metadata": {},
          "execution_count": 38
        }
      ]
    },
    {
      "cell_type": "code",
      "source": [
        "df2.columns = ['foreign_district', 'foreign_date', 'foreign_month','foreign_year','foreign_visitors']"
      ],
      "metadata": {
        "id": "elUE927S529t"
      },
      "execution_count": 39,
      "outputs": []
    },
    {
      "cell_type": "markdown",
      "source": [
        "# **Merging to data frames**"
      ],
      "metadata": {
        "id": "k3rU4df6Bhyp"
      }
    },
    {
      "cell_type": "code",
      "source": [
        "data = pd.concat([df1, df2], axis=1)"
      ],
      "metadata": {
        "id": "290OV6MI9vw1"
      },
      "execution_count": 40,
      "outputs": []
    },
    {
      "cell_type": "code",
      "source": [
        "data.head(10)"
      ],
      "metadata": {
        "colab": {
          "base_uri": "https://localhost:8080/",
          "height": 363
        },
        "id": "440A9ZSBB4Dl",
        "outputId": "7a574924-09d1-4e69-bbcb-6f6ad5c42f3e"
      },
      "execution_count": 41,
      "outputs": [
        {
          "output_type": "execute_result",
          "data": {
            "text/plain": [
              "   district       date      month  year  visitors foreign_district  \\\n",
              "0  Adilabad 2016-01-01    January  2016    792136         Adilabad   \n",
              "1  Adilabad 2016-01-02   February  2016    937820         Adilabad   \n",
              "2  Adilabad 2016-01-03      March  2016    582946         Adilabad   \n",
              "3  Adilabad 2016-01-04      April  2016    341948         Adilabad   \n",
              "4  Adilabad 2016-01-05        May  2016    252887         Adilabad   \n",
              "5  Adilabad 2016-01-06       June  2016    368237         Adilabad   \n",
              "6  Adilabad 2016-01-07       July  2016    447562         Adilabad   \n",
              "7  Adilabad 2016-01-08     August  2016    614285         Adilabad   \n",
              "8  Adilabad 2016-01-09  September  2016    491279         Adilabad   \n",
              "9  Adilabad 2016-01-10    October  2016     94184         Adilabad   \n",
              "\n",
              "  foreign_date foreign_month  foreign_year  foreign_visitors  \n",
              "0   2016-01-01       January          2016                 2  \n",
              "1   2016-01-02      February          2016                 0  \n",
              "2   2016-01-03         March          2016                 2  \n",
              "3   2016-01-04         April          2016                 0  \n",
              "4   2016-01-05           May          2016                 0  \n",
              "5   2016-01-06          June          2016                 0  \n",
              "6   2016-01-07          July          2016                 4  \n",
              "7   2016-01-08        August          2016                 2  \n",
              "8   2016-01-09     September          2016                 0  \n",
              "9   2016-01-10       October          2016                 0  "
            ],
            "text/html": [
              "\n",
              "  <div id=\"df-27359aa1-e9b5-4b29-96cb-883f9b239255\">\n",
              "    <div class=\"colab-df-container\">\n",
              "      <div>\n",
              "<style scoped>\n",
              "    .dataframe tbody tr th:only-of-type {\n",
              "        vertical-align: middle;\n",
              "    }\n",
              "\n",
              "    .dataframe tbody tr th {\n",
              "        vertical-align: top;\n",
              "    }\n",
              "\n",
              "    .dataframe thead th {\n",
              "        text-align: right;\n",
              "    }\n",
              "</style>\n",
              "<table border=\"1\" class=\"dataframe\">\n",
              "  <thead>\n",
              "    <tr style=\"text-align: right;\">\n",
              "      <th></th>\n",
              "      <th>district</th>\n",
              "      <th>date</th>\n",
              "      <th>month</th>\n",
              "      <th>year</th>\n",
              "      <th>visitors</th>\n",
              "      <th>foreign_district</th>\n",
              "      <th>foreign_date</th>\n",
              "      <th>foreign_month</th>\n",
              "      <th>foreign_year</th>\n",
              "      <th>foreign_visitors</th>\n",
              "    </tr>\n",
              "  </thead>\n",
              "  <tbody>\n",
              "    <tr>\n",
              "      <th>0</th>\n",
              "      <td>Adilabad</td>\n",
              "      <td>2016-01-01</td>\n",
              "      <td>January</td>\n",
              "      <td>2016</td>\n",
              "      <td>792136</td>\n",
              "      <td>Adilabad</td>\n",
              "      <td>2016-01-01</td>\n",
              "      <td>January</td>\n",
              "      <td>2016</td>\n",
              "      <td>2</td>\n",
              "    </tr>\n",
              "    <tr>\n",
              "      <th>1</th>\n",
              "      <td>Adilabad</td>\n",
              "      <td>2016-01-02</td>\n",
              "      <td>February</td>\n",
              "      <td>2016</td>\n",
              "      <td>937820</td>\n",
              "      <td>Adilabad</td>\n",
              "      <td>2016-01-02</td>\n",
              "      <td>February</td>\n",
              "      <td>2016</td>\n",
              "      <td>0</td>\n",
              "    </tr>\n",
              "    <tr>\n",
              "      <th>2</th>\n",
              "      <td>Adilabad</td>\n",
              "      <td>2016-01-03</td>\n",
              "      <td>March</td>\n",
              "      <td>2016</td>\n",
              "      <td>582946</td>\n",
              "      <td>Adilabad</td>\n",
              "      <td>2016-01-03</td>\n",
              "      <td>March</td>\n",
              "      <td>2016</td>\n",
              "      <td>2</td>\n",
              "    </tr>\n",
              "    <tr>\n",
              "      <th>3</th>\n",
              "      <td>Adilabad</td>\n",
              "      <td>2016-01-04</td>\n",
              "      <td>April</td>\n",
              "      <td>2016</td>\n",
              "      <td>341948</td>\n",
              "      <td>Adilabad</td>\n",
              "      <td>2016-01-04</td>\n",
              "      <td>April</td>\n",
              "      <td>2016</td>\n",
              "      <td>0</td>\n",
              "    </tr>\n",
              "    <tr>\n",
              "      <th>4</th>\n",
              "      <td>Adilabad</td>\n",
              "      <td>2016-01-05</td>\n",
              "      <td>May</td>\n",
              "      <td>2016</td>\n",
              "      <td>252887</td>\n",
              "      <td>Adilabad</td>\n",
              "      <td>2016-01-05</td>\n",
              "      <td>May</td>\n",
              "      <td>2016</td>\n",
              "      <td>0</td>\n",
              "    </tr>\n",
              "    <tr>\n",
              "      <th>5</th>\n",
              "      <td>Adilabad</td>\n",
              "      <td>2016-01-06</td>\n",
              "      <td>June</td>\n",
              "      <td>2016</td>\n",
              "      <td>368237</td>\n",
              "      <td>Adilabad</td>\n",
              "      <td>2016-01-06</td>\n",
              "      <td>June</td>\n",
              "      <td>2016</td>\n",
              "      <td>0</td>\n",
              "    </tr>\n",
              "    <tr>\n",
              "      <th>6</th>\n",
              "      <td>Adilabad</td>\n",
              "      <td>2016-01-07</td>\n",
              "      <td>July</td>\n",
              "      <td>2016</td>\n",
              "      <td>447562</td>\n",
              "      <td>Adilabad</td>\n",
              "      <td>2016-01-07</td>\n",
              "      <td>July</td>\n",
              "      <td>2016</td>\n",
              "      <td>4</td>\n",
              "    </tr>\n",
              "    <tr>\n",
              "      <th>7</th>\n",
              "      <td>Adilabad</td>\n",
              "      <td>2016-01-08</td>\n",
              "      <td>August</td>\n",
              "      <td>2016</td>\n",
              "      <td>614285</td>\n",
              "      <td>Adilabad</td>\n",
              "      <td>2016-01-08</td>\n",
              "      <td>August</td>\n",
              "      <td>2016</td>\n",
              "      <td>2</td>\n",
              "    </tr>\n",
              "    <tr>\n",
              "      <th>8</th>\n",
              "      <td>Adilabad</td>\n",
              "      <td>2016-01-09</td>\n",
              "      <td>September</td>\n",
              "      <td>2016</td>\n",
              "      <td>491279</td>\n",
              "      <td>Adilabad</td>\n",
              "      <td>2016-01-09</td>\n",
              "      <td>September</td>\n",
              "      <td>2016</td>\n",
              "      <td>0</td>\n",
              "    </tr>\n",
              "    <tr>\n",
              "      <th>9</th>\n",
              "      <td>Adilabad</td>\n",
              "      <td>2016-01-10</td>\n",
              "      <td>October</td>\n",
              "      <td>2016</td>\n",
              "      <td>94184</td>\n",
              "      <td>Adilabad</td>\n",
              "      <td>2016-01-10</td>\n",
              "      <td>October</td>\n",
              "      <td>2016</td>\n",
              "      <td>0</td>\n",
              "    </tr>\n",
              "  </tbody>\n",
              "</table>\n",
              "</div>\n",
              "      <button class=\"colab-df-convert\" onclick=\"convertToInteractive('df-27359aa1-e9b5-4b29-96cb-883f9b239255')\"\n",
              "              title=\"Convert this dataframe to an interactive table.\"\n",
              "              style=\"display:none;\">\n",
              "        \n",
              "  <svg xmlns=\"http://www.w3.org/2000/svg\" height=\"24px\"viewBox=\"0 0 24 24\"\n",
              "       width=\"24px\">\n",
              "    <path d=\"M0 0h24v24H0V0z\" fill=\"none\"/>\n",
              "    <path d=\"M18.56 5.44l.94 2.06.94-2.06 2.06-.94-2.06-.94-.94-2.06-.94 2.06-2.06.94zm-11 1L8.5 8.5l.94-2.06 2.06-.94-2.06-.94L8.5 2.5l-.94 2.06-2.06.94zm10 10l.94 2.06.94-2.06 2.06-.94-2.06-.94-.94-2.06-.94 2.06-2.06.94z\"/><path d=\"M17.41 7.96l-1.37-1.37c-.4-.4-.92-.59-1.43-.59-.52 0-1.04.2-1.43.59L10.3 9.45l-7.72 7.72c-.78.78-.78 2.05 0 2.83L4 21.41c.39.39.9.59 1.41.59.51 0 1.02-.2 1.41-.59l7.78-7.78 2.81-2.81c.8-.78.8-2.07 0-2.86zM5.41 20L4 18.59l7.72-7.72 1.47 1.35L5.41 20z\"/>\n",
              "  </svg>\n",
              "      </button>\n",
              "      \n",
              "  <style>\n",
              "    .colab-df-container {\n",
              "      display:flex;\n",
              "      flex-wrap:wrap;\n",
              "      gap: 12px;\n",
              "    }\n",
              "\n",
              "    .colab-df-convert {\n",
              "      background-color: #E8F0FE;\n",
              "      border: none;\n",
              "      border-radius: 50%;\n",
              "      cursor: pointer;\n",
              "      display: none;\n",
              "      fill: #1967D2;\n",
              "      height: 32px;\n",
              "      padding: 0 0 0 0;\n",
              "      width: 32px;\n",
              "    }\n",
              "\n",
              "    .colab-df-convert:hover {\n",
              "      background-color: #E2EBFA;\n",
              "      box-shadow: 0px 1px 2px rgba(60, 64, 67, 0.3), 0px 1px 3px 1px rgba(60, 64, 67, 0.15);\n",
              "      fill: #174EA6;\n",
              "    }\n",
              "\n",
              "    [theme=dark] .colab-df-convert {\n",
              "      background-color: #3B4455;\n",
              "      fill: #D2E3FC;\n",
              "    }\n",
              "\n",
              "    [theme=dark] .colab-df-convert:hover {\n",
              "      background-color: #434B5C;\n",
              "      box-shadow: 0px 1px 3px 1px rgba(0, 0, 0, 0.15);\n",
              "      filter: drop-shadow(0px 1px 2px rgba(0, 0, 0, 0.3));\n",
              "      fill: #FFFFFF;\n",
              "    }\n",
              "  </style>\n",
              "\n",
              "      <script>\n",
              "        const buttonEl =\n",
              "          document.querySelector('#df-27359aa1-e9b5-4b29-96cb-883f9b239255 button.colab-df-convert');\n",
              "        buttonEl.style.display =\n",
              "          google.colab.kernel.accessAllowed ? 'block' : 'none';\n",
              "\n",
              "        async function convertToInteractive(key) {\n",
              "          const element = document.querySelector('#df-27359aa1-e9b5-4b29-96cb-883f9b239255');\n",
              "          const dataTable =\n",
              "            await google.colab.kernel.invokeFunction('convertToInteractive',\n",
              "                                                     [key], {});\n",
              "          if (!dataTable) return;\n",
              "\n",
              "          const docLinkHtml = 'Like what you see? Visit the ' +\n",
              "            '<a target=\"_blank\" href=https://colab.research.google.com/notebooks/data_table.ipynb>data table notebook</a>'\n",
              "            + ' to learn more about interactive tables.';\n",
              "          element.innerHTML = '';\n",
              "          dataTable['output_type'] = 'display_data';\n",
              "          await google.colab.output.renderOutput(dataTable, element);\n",
              "          const docLink = document.createElement('div');\n",
              "          docLink.innerHTML = docLinkHtml;\n",
              "          element.appendChild(docLink);\n",
              "        }\n",
              "      </script>\n",
              "    </div>\n",
              "  </div>\n",
              "  "
            ]
          },
          "metadata": {},
          "execution_count": 41
        }
      ]
    },
    {
      "cell_type": "code",
      "source": [
        "#data['visitors_y'] = data['foreign_visitors'].replace({0:0.1})"
      ],
      "metadata": {
        "id": "oSg8vE-T-fuU"
      },
      "execution_count": 42,
      "outputs": []
    },
    {
      "cell_type": "code",
      "source": [
        "data['ratio'] = data['visitors']//data['foreign_visitors']"
      ],
      "metadata": {
        "id": "cVxdempc91Vd"
      },
      "execution_count": 43,
      "outputs": []
    },
    {
      "cell_type": "code",
      "source": [
        "data.loc[data['ratio'] == float('inf'), 'ratio'] = float('nan')\n"
      ],
      "metadata": {
        "id": "RB-xN1YdEL2B"
      },
      "execution_count": 44,
      "outputs": []
    },
    {
      "cell_type": "code",
      "source": [
        "data['ratio']  = data['ratio'].fillna(0)"
      ],
      "metadata": {
        "id": "gXysC6-CEXDB"
      },
      "execution_count": 45,
      "outputs": []
    },
    {
      "cell_type": "code",
      "source": [
        "data['foreign_visitors'].unique()"
      ],
      "metadata": {
        "colab": {
          "base_uri": "https://localhost:8080/"
        },
        "id": "dB7gp1xtHi4R",
        "outputId": "90c72247-f408-4961-8fc1-4ace7f350616"
      },
      "execution_count": 46,
      "outputs": [
        {
          "output_type": "execute_result",
          "data": {
            "text/plain": [
              "array([    2,     0,     4, 15865, 29646, 13019,  8402,  8522, 10284,\n",
              "       17142, 12842,  9397, 12808,  8084, 17620,    24,    22,    40,\n",
              "          13,    21,    11,   123,   126,   103,    75,    58,    68,\n",
              "          63,    86,    74,    37,    29,    26,     8,    10,   459,\n",
              "         391,   230,    39,    82,    88,    53,   102,   118,   108,\n",
              "          97,   132,     5,     3, 19286, 18097, 13875, 12996, 12983,\n",
              "       12486, 18144, 16985, 27856, 26368, 29170, 38933,    85,    38,\n",
              "          35,    36,    42,    45,    56,    55,    57,    20,    16,\n",
              "          32,    31,    34,    25,    41,    43,    44,    54,    47,\n",
              "          49,    19,    23,    18,    17,    28,   235,   242,   238,\n",
              "         209,   211,   194,   116,   219,   225,   236,   255,   250,\n",
              "       35379, 30414, 27535, 20830, 21554, 24677, 17456, 31217, 22809,\n",
              "       30072, 23487, 29358,    50,    60,    70,     6,    15,    52,\n",
              "          14,    30,     1,   150,   185,   160,   140,   130,   135,\n",
              "         145,   170,   187, 35920, 25621, 21929, 18267, 17317, 20077,\n",
              "       27874, 22725, 34018, 28706, 32762, 34084,    65,     7,   175,\n",
              "         200,   190,   195,   240,   220,   210])"
            ]
          },
          "metadata": {},
          "execution_count": 46
        }
      ]
    },
    {
      "cell_type": "code",
      "source": [
        "top3_districts = data.nlargest(3, 'ratio')['district'].sort_values()\n",
        "bottom3_districts = data.nsmallest(3, 'ratio')['district'].sort_values()"
      ],
      "metadata": {
        "id": "9NUMslKhEyoQ"
      },
      "execution_count": 47,
      "outputs": []
    },
    {
      "cell_type": "markdown",
      "source": [
        "# **Top 3 districts**"
      ],
      "metadata": {
        "id": "GOw5m-YrIs1w"
      }
    },
    {
      "cell_type": "code",
      "source": [
        "top3_districts"
      ],
      "metadata": {
        "colab": {
          "base_uri": "https://localhost:8080/"
        },
        "id": "9YLipyOlE7ln",
        "outputId": "ad2d6509-9270-40bf-9d69-9d30c8f19e6c"
      },
      "execution_count": 48,
      "outputs": [
        {
          "output_type": "execute_result",
          "data": {
            "text/plain": [
              "0    Adilabad\n",
              "7    Adilabad\n",
              "2    Adilabad\n",
              "Name: district, dtype: object"
            ]
          },
          "metadata": {},
          "execution_count": 48
        }
      ]
    },
    {
      "cell_type": "markdown",
      "source": [
        "# **Bottom_3 districts**"
      ],
      "metadata": {
        "id": "XfqPxLsDI0Ol"
      }
    },
    {
      "cell_type": "code",
      "source": [
        "bottom3_districts"
      ],
      "metadata": {
        "colab": {
          "base_uri": "https://localhost:8080/"
        },
        "id": "BaQfZMKFE-oW",
        "outputId": "97408cf5-a96c-4142-8cd0-7f9875fb4e9d"
      },
      "execution_count": 49,
      "outputs": [
        {
          "output_type": "execute_result",
          "data": {
            "text/plain": [
              "1    Adilabad\n",
              "3    Adilabad\n",
              "4    Adilabad\n",
              "Name: district, dtype: object"
            ]
          },
          "metadata": {},
          "execution_count": 49
        }
      ]
    }
  ]
}